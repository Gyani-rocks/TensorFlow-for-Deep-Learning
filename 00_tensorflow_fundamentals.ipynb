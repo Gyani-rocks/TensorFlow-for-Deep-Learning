{
  "nbformat": 4,
  "nbformat_minor": 0,
  "metadata": {
    "colab": {
      "provenance": [],
      "toc_visible": true
    },
    "kernelspec": {
      "name": "python3",
      "display_name": "Python 3"
    },
    "language_info": {
      "name": "python"
    }
  },
  "cells": [
    {
      "cell_type": "markdown",
      "source": [
        "# In this notebook , we're going to cover some of the most fundamental concepts of tensors using TensorFlow\n",
        "\n",
        "More specifically we're going to cover :\n",
        "\n",
        "    * Introduction to tensors\n",
        "    * Getting information form tensors\n",
        "    * Manipulating Tensors\n",
        "    * Tensors & Numpy\n",
        "    * Using @tf.function (a way to speed up your regular Python functions)\n",
        "    * Using GPU with TensorFlow (or TPUs)\n",
        "    * Exercises to try for yourself!"
      ],
      "metadata": {
        "id": "eGJVoeDj1sr5"
      }
    },
    {
      "cell_type": "markdown",
      "source": [
        "## Introduction to Tensors"
      ],
      "metadata": {
        "id": "vt4gDSIV2fGo"
      }
    },
    {
      "cell_type": "code",
      "source": [
        "# Import TensorFlow\n",
        "import tensorflow as tf\n",
        "print(tf.__version__)"
      ],
      "metadata": {
        "colab": {
          "base_uri": "https://localhost:8080/"
        },
        "id": "5ZgyRQ0n3qzk",
        "outputId": "ddbd0e01-ffc1-4306-cec6-82db1d8ae0e1"
      },
      "execution_count": null,
      "outputs": [
        {
          "output_type": "stream",
          "name": "stdout",
          "text": [
            "2.15.0\n"
          ]
        }
      ]
    },
    {
      "cell_type": "code",
      "source": [
        "# Creating tensors with tf.constant()\n",
        "scalar = tf.constant(7)\n",
        "scalar"
      ],
      "metadata": {
        "colab": {
          "base_uri": "https://localhost:8080/"
        },
        "id": "sueyUbog4IcM",
        "outputId": "c9b0c1ce-095f-484c-c310-8f9a7f85b140"
      },
      "execution_count": null,
      "outputs": [
        {
          "output_type": "execute_result",
          "data": {
            "text/plain": [
              "<tf.Tensor: shape=(), dtype=int32, numpy=7>"
            ]
          },
          "metadata": {},
          "execution_count": 2
        }
      ]
    },
    {
      "cell_type": "code",
      "source": [
        "# Check the number of dimensions of a tensor (ndim stands for number of dimensions)\n",
        "scalar.ndim"
      ],
      "metadata": {
        "colab": {
          "base_uri": "https://localhost:8080/"
        },
        "id": "taE2IfDS4abV",
        "outputId": "0a668f36-1f1b-4824-ed3a-3aebfa90ca9b"
      },
      "execution_count": null,
      "outputs": [
        {
          "output_type": "execute_result",
          "data": {
            "text/plain": [
              "0"
            ]
          },
          "metadata": {},
          "execution_count": 3
        }
      ]
    },
    {
      "cell_type": "code",
      "source": [
        "# Create a vector\n",
        "vector = tf.constant([10, 10])\n",
        "vector"
      ],
      "metadata": {
        "colab": {
          "base_uri": "https://localhost:8080/"
        },
        "id": "hHgNJQq9464T",
        "outputId": "789902e8-43fc-4aaa-b503-b752604891a7"
      },
      "execution_count": null,
      "outputs": [
        {
          "output_type": "execute_result",
          "data": {
            "text/plain": [
              "<tf.Tensor: shape=(2,), dtype=int32, numpy=array([10, 10], dtype=int32)>"
            ]
          },
          "metadata": {},
          "execution_count": 4
        }
      ]
    },
    {
      "cell_type": "code",
      "source": [
        "# Check the dimension of our vector\n",
        "vector.ndim"
      ],
      "metadata": {
        "colab": {
          "base_uri": "https://localhost:8080/"
        },
        "id": "tT3UMOAl5Inn",
        "outputId": "57371053-ad8e-40cf-de46-687531bcdc06"
      },
      "execution_count": null,
      "outputs": [
        {
          "output_type": "execute_result",
          "data": {
            "text/plain": [
              "1"
            ]
          },
          "metadata": {},
          "execution_count": 5
        }
      ]
    },
    {
      "cell_type": "code",
      "source": [
        "# Create a matrix\n",
        "matrix = tf.constant([[10,7],\n",
        "                      [7,10]])\n",
        "matrix"
      ],
      "metadata": {
        "colab": {
          "base_uri": "https://localhost:8080/"
        },
        "id": "yGuRm9vb5gKa",
        "outputId": "03eb699d-30e5-4cb5-dd8c-826e51e6a94d"
      },
      "execution_count": null,
      "outputs": [
        {
          "output_type": "execute_result",
          "data": {
            "text/plain": [
              "<tf.Tensor: shape=(2, 2), dtype=int32, numpy=\n",
              "array([[10,  7],\n",
              "       [ 7, 10]], dtype=int32)>"
            ]
          },
          "metadata": {},
          "execution_count": 6
        }
      ]
    },
    {
      "cell_type": "code",
      "source": [
        "# Check the number of dimensions in the matrix\n",
        "matrix.ndim"
      ],
      "metadata": {
        "colab": {
          "base_uri": "https://localhost:8080/"
        },
        "id": "GwBxkAWK5zti",
        "outputId": "696e15a7-eca5-46f4-8a5e-d832726c77d9"
      },
      "execution_count": null,
      "outputs": [
        {
          "output_type": "execute_result",
          "data": {
            "text/plain": [
              "2"
            ]
          },
          "metadata": {},
          "execution_count": 7
        }
      ]
    },
    {
      "cell_type": "code",
      "source": [
        "# Create another matrix\n",
        "another_matrix = tf.constant([[10., 7.],\n",
        "                              [3., 2.],\n",
        "                              [8., 9.]], dtype=tf.float16) # specifying the data type with dtype parameter\n",
        "another_matrix"
      ],
      "metadata": {
        "colab": {
          "base_uri": "https://localhost:8080/"
        },
        "id": "lhyLk3SG6U-a",
        "outputId": "2f9823da-e210-4132-eba7-02a22c743a03"
      },
      "execution_count": null,
      "outputs": [
        {
          "output_type": "execute_result",
          "data": {
            "text/plain": [
              "<tf.Tensor: shape=(3, 2), dtype=float16, numpy=\n",
              "array([[10.,  7.],\n",
              "       [ 3.,  2.],\n",
              "       [ 8.,  9.]], dtype=float16)>"
            ]
          },
          "metadata": {},
          "execution_count": 8
        }
      ]
    },
    {
      "cell_type": "code",
      "source": [
        "# What's the number of dimensions in another_matrix ?\n",
        "another_matrix.ndim"
      ],
      "metadata": {
        "colab": {
          "base_uri": "https://localhost:8080/"
        },
        "id": "WSpGeRu27QWv",
        "outputId": "92b19992-9b87-4705-9a94-699cb1ea174c"
      },
      "execution_count": null,
      "outputs": [
        {
          "output_type": "execute_result",
          "data": {
            "text/plain": [
              "2"
            ]
          },
          "metadata": {},
          "execution_count": 9
        }
      ]
    },
    {
      "cell_type": "code",
      "source": [
        "# Let's create a tensor\n",
        "tensor = tf.constant([[[1,2,3],\n",
        "                       [4,5,6]],\n",
        "                      [[7,8,9],\n",
        "                       [10,11,12]],\n",
        "                      [[13,14,15],\n",
        "                       [16,17,18]]])\n",
        "tensor"
      ],
      "metadata": {
        "colab": {
          "base_uri": "https://localhost:8080/"
        },
        "id": "y_P8YGZb77xo",
        "outputId": "9e39d5d6-0b2b-4d43-98f7-9dbfb28fe69c"
      },
      "execution_count": null,
      "outputs": [
        {
          "output_type": "execute_result",
          "data": {
            "text/plain": [
              "<tf.Tensor: shape=(3, 2, 3), dtype=int32, numpy=\n",
              "array([[[ 1,  2,  3],\n",
              "        [ 4,  5,  6]],\n",
              "\n",
              "       [[ 7,  8,  9],\n",
              "        [10, 11, 12]],\n",
              "\n",
              "       [[13, 14, 15],\n",
              "        [16, 17, 18]]], dtype=int32)>"
            ]
          },
          "metadata": {},
          "execution_count": 10
        }
      ]
    },
    {
      "cell_type": "code",
      "source": [
        "tensor.ndim"
      ],
      "metadata": {
        "colab": {
          "base_uri": "https://localhost:8080/"
        },
        "id": "5tnfHbna8Qxg",
        "outputId": "e3cdedf1-5895-43c8-dd47-cd980fc1b4b1"
      },
      "execution_count": null,
      "outputs": [
        {
          "output_type": "execute_result",
          "data": {
            "text/plain": [
              "3"
            ]
          },
          "metadata": {},
          "execution_count": 11
        }
      ]
    },
    {
      "cell_type": "markdown",
      "source": [
        "What we've created so far :\n",
        "\n",
        "* Scalar : a single number\n",
        "* Vector : a number with direction (e.g. wind speed and direction)\n",
        "* Matrix : a 2-dimensional array of numbers\n",
        "* Tensor : an n-dimensional array of numbers (where n can be any number, a 0-dimensional tensor is a scalar, a 1-dimensional tensor is a vector)"
      ],
      "metadata": {
        "id": "BmFQ6wfW8Z-X"
      }
    },
    {
      "cell_type": "markdown",
      "source": [
        "### Creating tensors with tf.variable"
      ],
      "metadata": {
        "id": "EsfSXoVq80VB"
      }
    },
    {
      "cell_type": "code",
      "source": [
        "# Create the same tensor with tf.Variable() as above\n",
        "changeable_tensor = tf.Variable([10, 7])\n",
        "unchangeable_tensor = tf.constant([10, 7])\n",
        "changeable_tensor, unchangeable_tensor"
      ],
      "metadata": {
        "colab": {
          "base_uri": "https://localhost:8080/"
        },
        "id": "fwK4ooKrEuuN",
        "outputId": "f9835411-3566-49d1-cad7-af1ae3e12824"
      },
      "execution_count": null,
      "outputs": [
        {
          "output_type": "execute_result",
          "data": {
            "text/plain": [
              "(<tf.Variable 'Variable:0' shape=(2,) dtype=int32, numpy=array([10,  7], dtype=int32)>,\n",
              " <tf.Tensor: shape=(2,), dtype=int32, numpy=array([10,  7], dtype=int32)>)"
            ]
          },
          "metadata": {},
          "execution_count": 12
        }
      ]
    },
    {
      "cell_type": "code",
      "source": [
        "# Let's try to change one of the elements in our changeable tensor\n",
        "# changeable_tensor[0] = 7\n",
        "# changeable_tensor\n",
        "\n",
        "# This will give error , so it is not executed . Proper method is displayed below"
      ],
      "metadata": {
        "id": "Ro82BwNZGofa"
      },
      "execution_count": null,
      "outputs": []
    },
    {
      "cell_type": "code",
      "source": [
        "# How about we try .assign()\n",
        "changeable_tensor[0].assign(7)\n",
        "changeable_tensor"
      ],
      "metadata": {
        "colab": {
          "base_uri": "https://localhost:8080/"
        },
        "id": "e9sH9mi5Fsz3",
        "outputId": "07136d3d-a06d-4613-8b74-e245d58f7b78"
      },
      "execution_count": null,
      "outputs": [
        {
          "output_type": "execute_result",
          "data": {
            "text/plain": [
              "<tf.Variable 'Variable:0' shape=(2,) dtype=int32, numpy=array([7, 7], dtype=int32)>"
            ]
          },
          "metadata": {},
          "execution_count": 14
        }
      ]
    },
    {
      "cell_type": "code",
      "source": [
        "# Let's try change our unchangeable tensor\n",
        "# unchangeable_tensor[0].assign(7)\n",
        "unchangeable_tensor"
      ],
      "metadata": {
        "colab": {
          "base_uri": "https://localhost:8080/"
        },
        "id": "rsDH659uHckt",
        "outputId": "a3796e6c-9a53-475e-f210-d5ebc28e1a11"
      },
      "execution_count": null,
      "outputs": [
        {
          "output_type": "execute_result",
          "data": {
            "text/plain": [
              "<tf.Tensor: shape=(2,), dtype=int32, numpy=array([10,  7], dtype=int32)>"
            ]
          },
          "metadata": {},
          "execution_count": 15
        }
      ]
    },
    {
      "cell_type": "markdown",
      "source": [
        "🔑 Note : Rarely in practice you need to decide whether to use `tf.constant` or `tf.Variable` to create tensors, as TensorFlow does this for you. However, if in doubt, use `tf.constant` and change it later if needed."
      ],
      "metadata": {
        "id": "mHntII-OIClk"
      }
    },
    {
      "cell_type": "markdown",
      "source": [
        "### Creating random tensors\n",
        "\n",
        "Random tensors are tensors of some abitrary size which contain random numbers."
      ],
      "metadata": {
        "id": "VYKi_PECJVnr"
      }
    },
    {
      "cell_type": "code",
      "source": [
        "# Create two random (but the same) tensors\n",
        "random_1 = tf.random.Generator.from_seed(69) # set the seed for reproducibility\n",
        "random_1 = random_1.normal(shape=(3,2))\n",
        "random_2 = tf.random.Generator.from_seed(69)\n",
        "random_2 = random_2.normal(shape=(3,2))\n",
        "\n",
        "# Are they equal?\n",
        "random_1, random_2, random_1 == random_2"
      ],
      "metadata": {
        "colab": {
          "base_uri": "https://localhost:8080/"
        },
        "id": "RXm3ykejKFTc",
        "outputId": "ea97a802-1857-4896-9777-6c4249846a8a"
      },
      "execution_count": null,
      "outputs": [
        {
          "output_type": "execute_result",
          "data": {
            "text/plain": [
              "(<tf.Tensor: shape=(3, 2), dtype=float32, numpy=\n",
              " array([[ 0.29164317,  1.4531525 ],\n",
              "        [-0.8223833 , -1.3446563 ],\n",
              "        [-0.7183838 , -0.20373915]], dtype=float32)>,\n",
              " <tf.Tensor: shape=(3, 2), dtype=float32, numpy=\n",
              " array([[ 0.29164317,  1.4531525 ],\n",
              "        [-0.8223833 , -1.3446563 ],\n",
              "        [-0.7183838 , -0.20373915]], dtype=float32)>,\n",
              " <tf.Tensor: shape=(3, 2), dtype=bool, numpy=\n",
              " array([[ True,  True],\n",
              "        [ True,  True],\n",
              "        [ True,  True]])>)"
            ]
          },
          "metadata": {},
          "execution_count": 16
        }
      ]
    },
    {
      "cell_type": "markdown",
      "source": [
        "### Shuffle the order of elements in a tensor\n"
      ],
      "metadata": {
        "id": "HQKYG_N5LOVS"
      }
    },
    {
      "cell_type": "code",
      "source": [
        "# Shuffle a tensor (valuable for when you want to shuffle the data so the inherent pattern of data doesn't affect learning)\n",
        "not_shuffled = tf.constant([[10,7],\n",
        "                            [3,4],\n",
        "                            [2,5]])\n",
        "# Shuffle our non-shuffled tensor\n",
        "tf.random.shuffle(not_shuffled)\n"
      ],
      "metadata": {
        "colab": {
          "base_uri": "https://localhost:8080/"
        },
        "id": "3f9hc23_MvQQ",
        "outputId": "3719088d-d36f-401d-ae37-2864624ab2a2"
      },
      "execution_count": null,
      "outputs": [
        {
          "output_type": "execute_result",
          "data": {
            "text/plain": [
              "<tf.Tensor: shape=(3, 2), dtype=int32, numpy=\n",
              "array([[ 2,  5],\n",
              "       [ 3,  4],\n",
              "       [10,  7]], dtype=int32)>"
            ]
          },
          "metadata": {},
          "execution_count": 17
        }
      ]
    },
    {
      "cell_type": "code",
      "source": [
        "# Shuffle our non-shuffled tensor\n",
        "# If we only put one random seed in the shuffle command, it doesn't give shuffled tensors in the same order (not reproducible results) ,\n",
        "# so we also put global random seed alongwith operation level random seed\n",
        "tf.random.set_seed(69)  # global level random seed\n",
        "tf.random.shuffle(not_shuffled, seed=69)  # operation level random seed"
      ],
      "metadata": {
        "colab": {
          "base_uri": "https://localhost:8080/"
        },
        "id": "K1vQ_LWsNX5x",
        "outputId": "aee5abc8-a8c6-4614-fa67-020d25137906"
      },
      "execution_count": null,
      "outputs": [
        {
          "output_type": "execute_result",
          "data": {
            "text/plain": [
              "<tf.Tensor: shape=(3, 2), dtype=int32, numpy=\n",
              "array([[ 2,  5],\n",
              "       [10,  7],\n",
              "       [ 3,  4]], dtype=int32)>"
            ]
          },
          "metadata": {},
          "execution_count": 18
        }
      ]
    },
    {
      "cell_type": "markdown",
      "source": [
        "### Other ways to make tensors"
      ],
      "metadata": {
        "id": "WAVQc9FGPAk1"
      }
    },
    {
      "cell_type": "code",
      "source": [
        "# Create a tensor of all ones\n",
        "tf.ones([10,7])"
      ],
      "metadata": {
        "colab": {
          "base_uri": "https://localhost:8080/"
        },
        "id": "_hih214rSCgV",
        "outputId": "8a5c7e02-3e2b-413e-b795-5a830e4d2748"
      },
      "execution_count": null,
      "outputs": [
        {
          "output_type": "execute_result",
          "data": {
            "text/plain": [
              "<tf.Tensor: shape=(10, 7), dtype=float32, numpy=\n",
              "array([[1., 1., 1., 1., 1., 1., 1.],\n",
              "       [1., 1., 1., 1., 1., 1., 1.],\n",
              "       [1., 1., 1., 1., 1., 1., 1.],\n",
              "       [1., 1., 1., 1., 1., 1., 1.],\n",
              "       [1., 1., 1., 1., 1., 1., 1.],\n",
              "       [1., 1., 1., 1., 1., 1., 1.],\n",
              "       [1., 1., 1., 1., 1., 1., 1.],\n",
              "       [1., 1., 1., 1., 1., 1., 1.],\n",
              "       [1., 1., 1., 1., 1., 1., 1.],\n",
              "       [1., 1., 1., 1., 1., 1., 1.]], dtype=float32)>"
            ]
          },
          "metadata": {},
          "execution_count": 19
        }
      ]
    },
    {
      "cell_type": "code",
      "source": [
        "# Create a tensor of all zeroes\n",
        "tf.zeros(shape=(3,4))"
      ],
      "metadata": {
        "colab": {
          "base_uri": "https://localhost:8080/"
        },
        "id": "zLVuxDsbSg9y",
        "outputId": "41880495-f8fc-43fa-8c90-ab806fd174e1"
      },
      "execution_count": null,
      "outputs": [
        {
          "output_type": "execute_result",
          "data": {
            "text/plain": [
              "<tf.Tensor: shape=(3, 4), dtype=float32, numpy=\n",
              "array([[0., 0., 0., 0.],\n",
              "       [0., 0., 0., 0.],\n",
              "       [0., 0., 0., 0.]], dtype=float32)>"
            ]
          },
          "metadata": {},
          "execution_count": 20
        }
      ]
    },
    {
      "cell_type": "markdown",
      "source": [
        "### Turn Numpy arrays into tensors\n",
        "\n",
        "The main difference between NumPy arrays and TensorFlow tensors is that tensors can be run on a GPU."
      ],
      "metadata": {
        "id": "Uli24tZBS3D9"
      }
    },
    {
      "cell_type": "code",
      "source": [
        "# You can also turn NumPy arrays into tensors\n",
        "import numpy as np\n",
        "numpy_A = np.arange(1, 25, dtype = np.int32) # create a numpy array between 1 and 25\n",
        "numpy_A\n",
        "\n",
        "# X = tf.constant(some_matrix) # capital for matrix or tensor\n",
        "# y = tf.constant(vector) # non-capital for vector"
      ],
      "metadata": {
        "colab": {
          "base_uri": "https://localhost:8080/"
        },
        "id": "DcdYgCitSsCL",
        "outputId": "9638dcaa-d2cb-498f-f5f4-277de2e5eb80"
      },
      "execution_count": null,
      "outputs": [
        {
          "output_type": "execute_result",
          "data": {
            "text/plain": [
              "array([ 1,  2,  3,  4,  5,  6,  7,  8,  9, 10, 11, 12, 13, 14, 15, 16, 17,\n",
              "       18, 19, 20, 21, 22, 23, 24], dtype=int32)"
            ]
          },
          "metadata": {},
          "execution_count": 21
        }
      ]
    },
    {
      "cell_type": "code",
      "source": [
        "A = tf.constant(numpy_A, shape=(2,3,4))\n",
        "B = tf.constant(numpy_A)\n",
        "A,B"
      ],
      "metadata": {
        "colab": {
          "base_uri": "https://localhost:8080/"
        },
        "id": "Qp9g_RJNUgPx",
        "outputId": "57a12aaa-4614-4ad1-9bec-4c307be14e2d"
      },
      "execution_count": null,
      "outputs": [
        {
          "output_type": "execute_result",
          "data": {
            "text/plain": [
              "(<tf.Tensor: shape=(2, 3, 4), dtype=int32, numpy=\n",
              " array([[[ 1,  2,  3,  4],\n",
              "         [ 5,  6,  7,  8],\n",
              "         [ 9, 10, 11, 12]],\n",
              " \n",
              "        [[13, 14, 15, 16],\n",
              "         [17, 18, 19, 20],\n",
              "         [21, 22, 23, 24]]], dtype=int32)>,\n",
              " <tf.Tensor: shape=(24,), dtype=int32, numpy=\n",
              " array([ 1,  2,  3,  4,  5,  6,  7,  8,  9, 10, 11, 12, 13, 14, 15, 16, 17,\n",
              "        18, 19, 20, 21, 22, 23, 24], dtype=int32)>)"
            ]
          },
          "metadata": {},
          "execution_count": 22
        }
      ]
    },
    {
      "cell_type": "markdown",
      "source": [
        "### Getting information from tensors\n",
        "\n",
        "When dealing with tensors we need to be aware of the following attributes :\n",
        "* Shape\n",
        "* Rank\n",
        "* Axis or dimension\n",
        "* Size"
      ],
      "metadata": {
        "id": "HSRGWJbFUpUS"
      }
    },
    {
      "cell_type": "code",
      "source": [
        "# Create a rank 4 tensor (4 dimensions)\n",
        "rank_4_tensor = tf.zeros(shape=[2,3,4,5])\n",
        "rank_4_tensor"
      ],
      "metadata": {
        "id": "xnK79jHmVux4",
        "colab": {
          "base_uri": "https://localhost:8080/"
        },
        "outputId": "e53e487d-a28e-4f21-85d9-719708acbe55"
      },
      "execution_count": null,
      "outputs": [
        {
          "output_type": "execute_result",
          "data": {
            "text/plain": [
              "<tf.Tensor: shape=(2, 3, 4, 5), dtype=float32, numpy=\n",
              "array([[[[0., 0., 0., 0., 0.],\n",
              "         [0., 0., 0., 0., 0.],\n",
              "         [0., 0., 0., 0., 0.],\n",
              "         [0., 0., 0., 0., 0.]],\n",
              "\n",
              "        [[0., 0., 0., 0., 0.],\n",
              "         [0., 0., 0., 0., 0.],\n",
              "         [0., 0., 0., 0., 0.],\n",
              "         [0., 0., 0., 0., 0.]],\n",
              "\n",
              "        [[0., 0., 0., 0., 0.],\n",
              "         [0., 0., 0., 0., 0.],\n",
              "         [0., 0., 0., 0., 0.],\n",
              "         [0., 0., 0., 0., 0.]]],\n",
              "\n",
              "\n",
              "       [[[0., 0., 0., 0., 0.],\n",
              "         [0., 0., 0., 0., 0.],\n",
              "         [0., 0., 0., 0., 0.],\n",
              "         [0., 0., 0., 0., 0.]],\n",
              "\n",
              "        [[0., 0., 0., 0., 0.],\n",
              "         [0., 0., 0., 0., 0.],\n",
              "         [0., 0., 0., 0., 0.],\n",
              "         [0., 0., 0., 0., 0.]],\n",
              "\n",
              "        [[0., 0., 0., 0., 0.],\n",
              "         [0., 0., 0., 0., 0.],\n",
              "         [0., 0., 0., 0., 0.],\n",
              "         [0., 0., 0., 0., 0.]]]], dtype=float32)>"
            ]
          },
          "metadata": {},
          "execution_count": 23
        }
      ]
    },
    {
      "cell_type": "code",
      "source": [
        "# Checking the 0th element in the rank 4 matix\n",
        "rank_4_tensor[0]"
      ],
      "metadata": {
        "colab": {
          "base_uri": "https://localhost:8080/"
        },
        "id": "A-b-eZms2cP6",
        "outputId": "4d6ea6b6-5f51-4ffe-fb5f-969acb300b58"
      },
      "execution_count": null,
      "outputs": [
        {
          "output_type": "execute_result",
          "data": {
            "text/plain": [
              "<tf.Tensor: shape=(3, 4, 5), dtype=float32, numpy=\n",
              "array([[[0., 0., 0., 0., 0.],\n",
              "        [0., 0., 0., 0., 0.],\n",
              "        [0., 0., 0., 0., 0.],\n",
              "        [0., 0., 0., 0., 0.]],\n",
              "\n",
              "       [[0., 0., 0., 0., 0.],\n",
              "        [0., 0., 0., 0., 0.],\n",
              "        [0., 0., 0., 0., 0.],\n",
              "        [0., 0., 0., 0., 0.]],\n",
              "\n",
              "       [[0., 0., 0., 0., 0.],\n",
              "        [0., 0., 0., 0., 0.],\n",
              "        [0., 0., 0., 0., 0.],\n",
              "        [0., 0., 0., 0., 0.]]], dtype=float32)>"
            ]
          },
          "metadata": {},
          "execution_count": 24
        }
      ]
    },
    {
      "cell_type": "code",
      "source": [
        "rank_4_tensor.shape, rank_4_tensor.ndim, tf.size(rank_4_tensor)"
      ],
      "metadata": {
        "colab": {
          "base_uri": "https://localhost:8080/"
        },
        "id": "aa9FYcSX2wP7",
        "outputId": "1cf07c37-72ba-4d05-bbd4-8d357dde0b34"
      },
      "execution_count": null,
      "outputs": [
        {
          "output_type": "execute_result",
          "data": {
            "text/plain": [
              "(TensorShape([2, 3, 4, 5]), 4, <tf.Tensor: shape=(), dtype=int32, numpy=120>)"
            ]
          },
          "metadata": {},
          "execution_count": 25
        }
      ]
    },
    {
      "cell_type": "code",
      "source": [
        "# Get various attributes of our tensor\n",
        "print(\"Datatype of every element: \", rank_4_tensor.dtype)\n",
        "print(\"Number of dimensions (rank): \", rank_4_tensor.ndim)\n",
        "print(\"Shape of tensor:\", rank_4_tensor.shape)\n",
        "print(\"Elements along the 0 axis:\", rank_4_tensor.shape[0]) # This refers to the number of elements in the first position i.e. in 2's position of [2,3,4,5]\n",
        "print(\"Elements along the last axis: \", rank_4_tensor.shape[-1]) # This refers to the number of elements in the last position i.e. in 5's position of [2,3,4,5]\n",
        "print(\"Total number of elements in our tensor: \", tf.size(rank_4_tensor))\n",
        "print(\"Total number of elements in our tensor: \", tf.size(rank_4_tensor).numpy()) # by adding this we get the no. of elements in the tensor , in a single element"
      ],
      "metadata": {
        "colab": {
          "base_uri": "https://localhost:8080/"
        },
        "id": "feXNg0EB3wJz",
        "outputId": "fb7f5adc-0f85-433c-8f56-60f36570570f"
      },
      "execution_count": null,
      "outputs": [
        {
          "output_type": "stream",
          "name": "stdout",
          "text": [
            "Datatype of every element:  <dtype: 'float32'>\n",
            "Number of dimensions (rank):  4\n",
            "Shape of tensor: (2, 3, 4, 5)\n",
            "Elements along the 0 axis: 2\n",
            "Elements along the last axis:  5\n",
            "Total number of elements in our tensor:  tf.Tensor(120, shape=(), dtype=int32)\n",
            "Total number of elements in our tensor:  120\n"
          ]
        }
      ]
    },
    {
      "cell_type": "markdown",
      "source": [
        "### Indexing Tensros\n",
        "\n",
        "Tensors can be indexed just like python lists.\n"
      ],
      "metadata": {
        "id": "zPJn460G5P85"
      }
    },
    {
      "cell_type": "code",
      "source": [
        "# Get the first two elements of each dimension\n",
        "rank_4_tensor[:2, :2, :2, :2]"
      ],
      "metadata": {
        "colab": {
          "base_uri": "https://localhost:8080/"
        },
        "id": "pO_tEid-BT7Z",
        "outputId": "7b408335-cf24-481d-80a2-db226e89a1d5"
      },
      "execution_count": null,
      "outputs": [
        {
          "output_type": "execute_result",
          "data": {
            "text/plain": [
              "<tf.Tensor: shape=(2, 2, 2, 2), dtype=float32, numpy=\n",
              "array([[[[0., 0.],\n",
              "         [0., 0.]],\n",
              "\n",
              "        [[0., 0.],\n",
              "         [0., 0.]]],\n",
              "\n",
              "\n",
              "       [[[0., 0.],\n",
              "         [0., 0.]],\n",
              "\n",
              "        [[0., 0.],\n",
              "         [0., 0.]]]], dtype=float32)>"
            ]
          },
          "metadata": {},
          "execution_count": 27
        }
      ]
    },
    {
      "cell_type": "code",
      "source": [
        "# Get the first element from each dimension from each index except for the final one\n",
        "rank_4_tensor[:1,:1,:1]"
      ],
      "metadata": {
        "colab": {
          "base_uri": "https://localhost:8080/"
        },
        "id": "fkk1nSx2Bymz",
        "outputId": "6257e25c-5be3-4151-f65b-392a783aa447"
      },
      "execution_count": null,
      "outputs": [
        {
          "output_type": "execute_result",
          "data": {
            "text/plain": [
              "<tf.Tensor: shape=(1, 1, 1, 5), dtype=float32, numpy=array([[[[0., 0., 0., 0., 0.]]]], dtype=float32)>"
            ]
          },
          "metadata": {},
          "execution_count": 28
        }
      ]
    },
    {
      "cell_type": "code",
      "source": [
        "# Get the first element from each dimension from each index except for the second last one\n",
        "rank_4_tensor[:1,:1,:,:1]"
      ],
      "metadata": {
        "colab": {
          "base_uri": "https://localhost:8080/"
        },
        "id": "D_kPH5qyCZD7",
        "outputId": "062abfe6-ca00-4d26-d72e-a78672dc6af6"
      },
      "execution_count": null,
      "outputs": [
        {
          "output_type": "execute_result",
          "data": {
            "text/plain": [
              "<tf.Tensor: shape=(1, 1, 4, 1), dtype=float32, numpy=\n",
              "array([[[[0.],\n",
              "         [0.],\n",
              "         [0.],\n",
              "         [0.]]]], dtype=float32)>"
            ]
          },
          "metadata": {},
          "execution_count": 29
        }
      ]
    },
    {
      "cell_type": "code",
      "source": [
        "# Create a rank two tensor (2 dimensions)\n",
        "rank_2_tensor = tf.constant([[1,2],\n",
        "                            [3,4]])\n",
        "rank_2_tensor\n"
      ],
      "metadata": {
        "colab": {
          "base_uri": "https://localhost:8080/"
        },
        "id": "QVQRDye7DF4p",
        "outputId": "5fc10b30-6402-4fde-da09-b73de4405d6a"
      },
      "execution_count": null,
      "outputs": [
        {
          "output_type": "execute_result",
          "data": {
            "text/plain": [
              "<tf.Tensor: shape=(2, 2), dtype=int32, numpy=\n",
              "array([[1, 2],\n",
              "       [3, 4]], dtype=int32)>"
            ]
          },
          "metadata": {},
          "execution_count": 30
        }
      ]
    },
    {
      "cell_type": "code",
      "source": [
        "# Get the last item of each row from our rank 2 tensor\n",
        "rank_2_tensor[:,-1]"
      ],
      "metadata": {
        "colab": {
          "base_uri": "https://localhost:8080/"
        },
        "id": "mvt3GGcXDg8b",
        "outputId": "5b540628-51a1-4f9a-930e-fb206e002939"
      },
      "execution_count": null,
      "outputs": [
        {
          "output_type": "execute_result",
          "data": {
            "text/plain": [
              "<tf.Tensor: shape=(2,), dtype=int32, numpy=array([2, 4], dtype=int32)>"
            ]
          },
          "metadata": {},
          "execution_count": 31
        }
      ]
    },
    {
      "cell_type": "code",
      "source": [
        "# Add in extra dimension to our rank 2 tensor\n",
        "# This adds a new axis to our trensor thereby allowing to reshape it without changing the contents of the tensor\n",
        "rank_3_tensor = rank_2_tensor[..., tf.newaxis] # Here the ... means include every axis before the last one\n",
        "rank_3_tensor"
      ],
      "metadata": {
        "colab": {
          "base_uri": "https://localhost:8080/"
        },
        "id": "YJg_rGswEDja",
        "outputId": "4360105b-c274-405a-a52f-51282e5b2b31"
      },
      "execution_count": null,
      "outputs": [
        {
          "output_type": "execute_result",
          "data": {
            "text/plain": [
              "<tf.Tensor: shape=(2, 2, 1), dtype=int32, numpy=\n",
              "array([[[1],\n",
              "        [2]],\n",
              "\n",
              "       [[3],\n",
              "        [4]]], dtype=int32)>"
            ]
          },
          "metadata": {},
          "execution_count": 32
        }
      ]
    },
    {
      "cell_type": "code",
      "source": [
        "# Alternative to tf.newaxis\n",
        "tf.expand_dims(rank_2_tensor, axis=-1) # -1 means expand the final axis"
      ],
      "metadata": {
        "colab": {
          "base_uri": "https://localhost:8080/"
        },
        "id": "wXC_tULaFiXK",
        "outputId": "fbb1485e-b036-41df-9431-52cc2a6ee512"
      },
      "execution_count": null,
      "outputs": [
        {
          "output_type": "execute_result",
          "data": {
            "text/plain": [
              "<tf.Tensor: shape=(2, 2, 1), dtype=int32, numpy=\n",
              "array([[[1],\n",
              "        [2]],\n",
              "\n",
              "       [[3],\n",
              "        [4]]], dtype=int32)>"
            ]
          },
          "metadata": {},
          "execution_count": 33
        }
      ]
    },
    {
      "cell_type": "code",
      "source": [
        "# Here we are expanding from the first axis instead of the last axis\n",
        "tf.expand_dims(rank_2_tensor, axis=0) # expand the 0 axis"
      ],
      "metadata": {
        "colab": {
          "base_uri": "https://localhost:8080/"
        },
        "id": "48DWWu6eFkmc",
        "outputId": "afb17e0c-b64e-4a31-a80f-00a6cad85338"
      },
      "execution_count": null,
      "outputs": [
        {
          "output_type": "execute_result",
          "data": {
            "text/plain": [
              "<tf.Tensor: shape=(1, 2, 2), dtype=int32, numpy=\n",
              "array([[[1, 2],\n",
              "        [3, 4]]], dtype=int32)>"
            ]
          },
          "metadata": {},
          "execution_count": 34
        }
      ]
    },
    {
      "cell_type": "markdown",
      "source": [
        "### Manipulating tensors (tensor opeartions)\n",
        "\n",
        "**Basic operations**\n",
        "\n",
        "`+`,`-`,`*`,`/`"
      ],
      "metadata": {
        "id": "vbBkWSfiGCen"
      }
    },
    {
      "cell_type": "code",
      "source": [
        "# You can add values in a tensor using the addition opeartor\n",
        "tensor = tf.constant([[1,5],\n",
        "                      [2,6]])\n",
        "tensor + 10"
      ],
      "metadata": {
        "colab": {
          "base_uri": "https://localhost:8080/"
        },
        "id": "PjUKR_dYGVJ3",
        "outputId": "31ff9610-86cc-44cb-a32e-d3b7924b969d"
      },
      "execution_count": null,
      "outputs": [
        {
          "output_type": "execute_result",
          "data": {
            "text/plain": [
              "<tf.Tensor: shape=(2, 2), dtype=int32, numpy=\n",
              "array([[11, 15],\n",
              "       [12, 16]], dtype=int32)>"
            ]
          },
          "metadata": {},
          "execution_count": 35
        }
      ]
    },
    {
      "cell_type": "code",
      "source": [
        "# Original tensor is unchanged\n",
        "tensor"
      ],
      "metadata": {
        "colab": {
          "base_uri": "https://localhost:8080/"
        },
        "id": "swnDE1IPHMj3",
        "outputId": "19763b1b-bdf6-4cd3-c9d4-810114861b67"
      },
      "execution_count": null,
      "outputs": [
        {
          "output_type": "execute_result",
          "data": {
            "text/plain": [
              "<tf.Tensor: shape=(2, 2), dtype=int32, numpy=\n",
              "array([[1, 5],\n",
              "       [2, 6]], dtype=int32)>"
            ]
          },
          "metadata": {},
          "execution_count": 36
        }
      ]
    },
    {
      "cell_type": "code",
      "source": [
        "# Multiplication also works\n",
        "tensor * 12"
      ],
      "metadata": {
        "colab": {
          "base_uri": "https://localhost:8080/"
        },
        "id": "woMjQntXHgUQ",
        "outputId": "e5af5173-b99d-419e-9af9-3609dd049c11"
      },
      "execution_count": null,
      "outputs": [
        {
          "output_type": "execute_result",
          "data": {
            "text/plain": [
              "<tf.Tensor: shape=(2, 2), dtype=int32, numpy=\n",
              "array([[12, 60],\n",
              "       [24, 72]], dtype=int32)>"
            ]
          },
          "metadata": {},
          "execution_count": 37
        }
      ]
    },
    {
      "cell_type": "code",
      "source": [
        "# Same for subtraction\n",
        "tensor - 10"
      ],
      "metadata": {
        "colab": {
          "base_uri": "https://localhost:8080/"
        },
        "id": "oQ2OcANuHlnG",
        "outputId": "431f6b48-9717-4ed1-9557-c30a7f1d4834"
      },
      "execution_count": null,
      "outputs": [
        {
          "output_type": "execute_result",
          "data": {
            "text/plain": [
              "<tf.Tensor: shape=(2, 2), dtype=int32, numpy=\n",
              "array([[-9, -5],\n",
              "       [-8, -4]], dtype=int32)>"
            ]
          },
          "metadata": {},
          "execution_count": 38
        }
      ]
    },
    {
      "cell_type": "code",
      "source": [
        "# We can use the tensorflow built-in functions too\n",
        "tf.multiply(tensor,5)"
      ],
      "metadata": {
        "colab": {
          "base_uri": "https://localhost:8080/"
        },
        "id": "Wji6BNMGHrHW",
        "outputId": "10a599d7-ca1e-4668-cbc5-573ea50df624"
      },
      "execution_count": null,
      "outputs": [
        {
          "output_type": "execute_result",
          "data": {
            "text/plain": [
              "<tf.Tensor: shape=(2, 2), dtype=int32, numpy=\n",
              "array([[ 5, 25],\n",
              "       [10, 30]], dtype=int32)>"
            ]
          },
          "metadata": {},
          "execution_count": 39
        }
      ]
    },
    {
      "cell_type": "code",
      "source": [
        "tf.divide(tensor,5)"
      ],
      "metadata": {
        "colab": {
          "base_uri": "https://localhost:8080/"
        },
        "id": "4Wwykk4jH7yu",
        "outputId": "490a7db8-5db2-4256-c9e4-fe082e24db44"
      },
      "execution_count": null,
      "outputs": [
        {
          "output_type": "execute_result",
          "data": {
            "text/plain": [
              "<tf.Tensor: shape=(2, 2), dtype=float64, numpy=\n",
              "array([[0.2, 1. ],\n",
              "       [0.4, 1.2]])>"
            ]
          },
          "metadata": {},
          "execution_count": 40
        }
      ]
    },
    {
      "cell_type": "markdown",
      "source": [
        "**Matrix Multiplication**\n",
        "\n",
        "In Machine learning , matrix multiplication is one of the most common tensor operations.\n",
        "\n",
        "There are two rules our tensors (or matrices) must follow to fulfil if we're going to matrix multiply them :    \n",
        "1. The inner dimensions must match.\n",
        "2. The resulting matrix has the shape of the inner dimensions."
      ],
      "metadata": {
        "id": "8OmFGI05I62N"
      }
    },
    {
      "cell_type": "code",
      "source": [
        "# Matrix multiplication in Tensorflow\n",
        "print(tensor)\n",
        "tf.matmul(tensor,tensor) # This matmul func. is used to multiply two tensors in tf"
      ],
      "metadata": {
        "colab": {
          "base_uri": "https://localhost:8080/"
        },
        "id": "QcfIDgU2JUoN",
        "outputId": "d5949303-e69c-4851-cb31-3322f3ce97b5"
      },
      "execution_count": null,
      "outputs": [
        {
          "output_type": "stream",
          "name": "stdout",
          "text": [
            "tf.Tensor(\n",
            "[[1 5]\n",
            " [2 6]], shape=(2, 2), dtype=int32)\n"
          ]
        },
        {
          "output_type": "execute_result",
          "data": {
            "text/plain": [
              "<tf.Tensor: shape=(2, 2), dtype=int32, numpy=\n",
              "array([[11, 35],\n",
              "       [14, 46]], dtype=int32)>"
            ]
          },
          "metadata": {},
          "execution_count": 41
        }
      ]
    },
    {
      "cell_type": "code",
      "source": [
        "# Matrix multiplication with python opearator\n",
        "tensor @ tensor # This is the same as tf.matmul(tensor,tensor)"
      ],
      "metadata": {
        "colab": {
          "base_uri": "https://localhost:8080/"
        },
        "id": "Spvf_6_5KUjL",
        "outputId": "00293dd5-dcd4-4f8e-cae8-4a5271b57c4b"
      },
      "execution_count": null,
      "outputs": [
        {
          "output_type": "execute_result",
          "data": {
            "text/plain": [
              "<tf.Tensor: shape=(2, 2), dtype=int32, numpy=\n",
              "array([[11, 35],\n",
              "       [14, 46]], dtype=int32)>"
            ]
          },
          "metadata": {},
          "execution_count": 42
        }
      ]
    },
    {
      "cell_type": "code",
      "source": [
        "# Create a tensor of (3,2) shape\n",
        "X = tf.constant([[1,2],\n",
        "                [3,4],\n",
        "                [5,6]])\n",
        "# Create another (3,2) tensor\n",
        "Y = tf.constant([[7,8],\n",
        "                [9,10],\n",
        "                [11,12]])\n",
        "X,Y"
      ],
      "metadata": {
        "colab": {
          "base_uri": "https://localhost:8080/"
        },
        "id": "sGkd5qzOLO4i",
        "outputId": "d2319f03-771d-44a8-f701-50f44894099a"
      },
      "execution_count": null,
      "outputs": [
        {
          "output_type": "execute_result",
          "data": {
            "text/plain": [
              "(<tf.Tensor: shape=(3, 2), dtype=int32, numpy=\n",
              " array([[1, 2],\n",
              "        [3, 4],\n",
              "        [5, 6]], dtype=int32)>,\n",
              " <tf.Tensor: shape=(3, 2), dtype=int32, numpy=\n",
              " array([[ 7,  8],\n",
              "        [ 9, 10],\n",
              "        [11, 12]], dtype=int32)>)"
            ]
          },
          "metadata": {},
          "execution_count": 43
        }
      ]
    },
    {
      "cell_type": "markdown",
      "source": [
        "### Now if we try to multiply these two matrices , we will get an error as the shape is not compatible in accordance to matrix multiplication rules"
      ],
      "metadata": {
        "id": "WmSpaUlnL3sZ"
      }
    },
    {
      "cell_type": "code",
      "source": [
        "tf.matmul(tf.transpose(X),Y)"
      ],
      "metadata": {
        "id": "hk_qfr5BMUZD",
        "colab": {
          "base_uri": "https://localhost:8080/"
        },
        "outputId": "71ea76d6-7bd0-417b-e421-04f75d6e559b"
      },
      "execution_count": null,
      "outputs": [
        {
          "output_type": "execute_result",
          "data": {
            "text/plain": [
              "<tf.Tensor: shape=(2, 2), dtype=int32, numpy=\n",
              "array([[ 89,  98],\n",
              "       [116, 128]], dtype=int32)>"
            ]
          },
          "metadata": {},
          "execution_count": 44
        }
      ]
    },
    {
      "cell_type": "code",
      "source": [
        "tf.matmul(X,tf.transpose(Y))"
      ],
      "metadata": {
        "colab": {
          "base_uri": "https://localhost:8080/"
        },
        "id": "P-KAz9jUHsYN",
        "outputId": "03e8a606-3e7e-489c-a4ed-17279bac3774"
      },
      "execution_count": null,
      "outputs": [
        {
          "output_type": "execute_result",
          "data": {
            "text/plain": [
              "<tf.Tensor: shape=(3, 3), dtype=int32, numpy=\n",
              "array([[ 23,  29,  35],\n",
              "       [ 53,  67,  81],\n",
              "       [ 83, 105, 127]], dtype=int32)>"
            ]
          },
          "metadata": {},
          "execution_count": 45
        }
      ]
    },
    {
      "cell_type": "code",
      "source": [
        "# We could also reshape the matrix (tensor) for this matrix multiplication\n",
        "tf.reshape(X,shape =(2,3))\n",
        "tf.matmul(tf.reshape(X,shape=(2,3)),Y)"
      ],
      "metadata": {
        "colab": {
          "base_uri": "https://localhost:8080/"
        },
        "id": "3PJ_rviJH2SP",
        "outputId": "b719d1e2-5d48-4001-e395-5059d59bdfbb"
      },
      "execution_count": null,
      "outputs": [
        {
          "output_type": "execute_result",
          "data": {
            "text/plain": [
              "<tf.Tensor: shape=(2, 2), dtype=int32, numpy=\n",
              "array([[ 58,  64],\n",
              "       [139, 154]], dtype=int32)>"
            ]
          },
          "metadata": {},
          "execution_count": 46
        }
      ]
    },
    {
      "cell_type": "markdown",
      "source": [
        "### Note that , reshaping a matrix and multiplying with another matrix gives different dot product as compared to finding out transpose of the same matrix and multiplying with another matrix ."
      ],
      "metadata": {
        "id": "29NDy4lUJJH-"
      }
    },
    {
      "cell_type": "markdown",
      "source": [
        "**The Dot Product**\n",
        "\n",
        "Matrix multiplication is also referred to as dot product.\n",
        "We can perform matrix multiplication using :       \n",
        "* `tf.matmul()`\n",
        "* `tf.tensordot()`\n",
        "* `@`"
      ],
      "metadata": {
        "id": "MoD3hyBjKBsl"
      }
    },
    {
      "cell_type": "code",
      "source": [
        "# Performing the dot product on X and Y using tensordot\n",
        "tf.tensordot(tf.transpose(X),Y,axes=1)"
      ],
      "metadata": {
        "colab": {
          "base_uri": "https://localhost:8080/"
        },
        "id": "wKNiDDFWK_Nc",
        "outputId": "ff148a26-3839-4c44-ad7d-55c6bc56bd3f"
      },
      "execution_count": null,
      "outputs": [
        {
          "output_type": "execute_result",
          "data": {
            "text/plain": [
              "<tf.Tensor: shape=(2, 2), dtype=int32, numpy=\n",
              "array([[ 89,  98],\n",
              "       [116, 128]], dtype=int32)>"
            ]
          },
          "metadata": {},
          "execution_count": 47
        }
      ]
    },
    {
      "cell_type": "markdown",
      "source": [
        "Generally, when performing matrix multiplication on two tensors and one of the axes doesn't line up , you will transpose (rather than reshape) one of the tensors to satisfy the matrix multiplication rules."
      ],
      "metadata": {
        "id": "fCObiU58LxDy"
      }
    },
    {
      "cell_type": "markdown",
      "source": [
        "### Changing the datatype of a tensor"
      ],
      "metadata": {
        "id": "gNVUHlP5M0XN"
      }
    },
    {
      "cell_type": "code",
      "source": [
        "# Create a new tensor with default datatype (float32)\n",
        "B = tf.constant([1.7,7.4])\n",
        "B.dtype"
      ],
      "metadata": {
        "colab": {
          "base_uri": "https://localhost:8080/"
        },
        "id": "ZwpWYdpmNARC",
        "outputId": "43caa9ad-fc9c-41b7-e67c-a07bd382e078"
      },
      "execution_count": null,
      "outputs": [
        {
          "output_type": "execute_result",
          "data": {
            "text/plain": [
              "tf.float32"
            ]
          },
          "metadata": {},
          "execution_count": 48
        }
      ]
    },
    {
      "cell_type": "code",
      "source": [
        "# Change from float32 to float16 (reduced precision)\n",
        "D = tf.cast(B, dtype = tf.float16)\n",
        "D, D.dtype"
      ],
      "metadata": {
        "colab": {
          "base_uri": "https://localhost:8080/"
        },
        "id": "1ReF5lxmOJUh",
        "outputId": "2acbcac0-47f2-47dd-c3e2-d1016742e24e"
      },
      "execution_count": null,
      "outputs": [
        {
          "output_type": "execute_result",
          "data": {
            "text/plain": [
              "(<tf.Tensor: shape=(2,), dtype=float16, numpy=array([1.7, 7.4], dtype=float16)>,\n",
              " tf.float16)"
            ]
          },
          "metadata": {},
          "execution_count": 49
        }
      ]
    },
    {
      "cell_type": "code",
      "source": [
        "C = tf.constant([7,10])\n",
        "C.dtype"
      ],
      "metadata": {
        "colab": {
          "base_uri": "https://localhost:8080/"
        },
        "id": "98ldnuqgPez_",
        "outputId": "e7d83a76-6e23-467d-8d3b-de2853b497eb"
      },
      "execution_count": null,
      "outputs": [
        {
          "output_type": "execute_result",
          "data": {
            "text/plain": [
              "tf.int32"
            ]
          },
          "metadata": {},
          "execution_count": 50
        }
      ]
    },
    {
      "cell_type": "code",
      "source": [
        "# Change from int32 to float32\n",
        "E = tf.cast(C, dtype = tf.float32)\n",
        "E, E.dtype"
      ],
      "metadata": {
        "colab": {
          "base_uri": "https://localhost:8080/"
        },
        "id": "vPaGi9BxO8CR",
        "outputId": "eaebc417-4cd3-4cd8-fbb2-ccef02584062"
      },
      "execution_count": null,
      "outputs": [
        {
          "output_type": "execute_result",
          "data": {
            "text/plain": [
              "(<tf.Tensor: shape=(2,), dtype=float32, numpy=array([ 7., 10.], dtype=float32)>,\n",
              " tf.float32)"
            ]
          },
          "metadata": {},
          "execution_count": 51
        }
      ]
    },
    {
      "cell_type": "markdown",
      "source": [
        "### Aggregating Tensors\n",
        "\n",
        "Aggregating tensors means condensing them from multiple values down to a smaller amount of values."
      ],
      "metadata": {
        "id": "9216HNyvPYqf"
      }
    },
    {
      "cell_type": "code",
      "source": [
        "# Getting the absolute values\n",
        "A = tf.constant([-12,-19,-10])\n",
        "tf.abs(A)\n"
      ],
      "metadata": {
        "colab": {
          "base_uri": "https://localhost:8080/"
        },
        "id": "tTR-wTAzQYVu",
        "outputId": "7d43bfd9-8e4b-4d60-c0e6-7049fbd95022"
      },
      "execution_count": null,
      "outputs": [
        {
          "output_type": "execute_result",
          "data": {
            "text/plain": [
              "<tf.Tensor: shape=(3,), dtype=int32, numpy=array([12, 19, 10], dtype=int32)>"
            ]
          },
          "metadata": {},
          "execution_count": 52
        }
      ]
    },
    {
      "cell_type": "markdown",
      "source": [
        "Let's go through the following forms of aggregation :\n",
        "* Get the minimum\n",
        "* Get the maximum\n",
        "* Get the mean of a tensor\n",
        "* Get the sum of a tensor"
      ],
      "metadata": {
        "id": "t2Vv1Q8UR0lf"
      }
    },
    {
      "cell_type": "code",
      "source": [
        "# Creating a random tensor\n",
        "P = tf.constant([20, 12, 15, 23, 10])\n",
        "Q = tf.constant([[5,10],\n",
        "                 [15,20]])\n",
        "P , Q , P.dtype, Q.dtype"
      ],
      "metadata": {
        "colab": {
          "base_uri": "https://localhost:8080/"
        },
        "id": "4Cda6ZUGSZVk",
        "outputId": "610f1be0-531d-4778-9125-4dcf50b0a051"
      },
      "execution_count": null,
      "outputs": [
        {
          "output_type": "execute_result",
          "data": {
            "text/plain": [
              "(<tf.Tensor: shape=(5,), dtype=int32, numpy=array([20, 12, 15, 23, 10], dtype=int32)>,\n",
              " <tf.Tensor: shape=(2, 2), dtype=int32, numpy=\n",
              " array([[ 5, 10],\n",
              "        [15, 20]], dtype=int32)>,\n",
              " tf.int32,\n",
              " tf.int32)"
            ]
          },
          "metadata": {},
          "execution_count": 53
        }
      ]
    },
    {
      "cell_type": "code",
      "source": [
        "# To find the minimum value in a tensor\n",
        "tf.reduce_min(P) , tf.reduce_min(Q)"
      ],
      "metadata": {
        "colab": {
          "base_uri": "https://localhost:8080/"
        },
        "id": "ffWEk65uSz2s",
        "outputId": "42ebe3f0-333e-4e61-f9c0-e39c8a30fcc9"
      },
      "execution_count": null,
      "outputs": [
        {
          "output_type": "execute_result",
          "data": {
            "text/plain": [
              "(<tf.Tensor: shape=(), dtype=int32, numpy=10>,\n",
              " <tf.Tensor: shape=(), dtype=int32, numpy=5>)"
            ]
          },
          "metadata": {},
          "execution_count": 54
        }
      ]
    },
    {
      "cell_type": "code",
      "source": [
        "# To find the maximum value in a tensor\n",
        "tf.reduce_max(P) , tf.reduce_max(Q)"
      ],
      "metadata": {
        "colab": {
          "base_uri": "https://localhost:8080/"
        },
        "id": "bVnsD7z2Tout",
        "outputId": "3c7508be-9ece-4b55-9443-038dbe76b504"
      },
      "execution_count": null,
      "outputs": [
        {
          "output_type": "execute_result",
          "data": {
            "text/plain": [
              "(<tf.Tensor: shape=(), dtype=int32, numpy=23>,\n",
              " <tf.Tensor: shape=(), dtype=int32, numpy=20>)"
            ]
          },
          "metadata": {},
          "execution_count": 55
        }
      ]
    },
    {
      "cell_type": "code",
      "source": [
        "# To find the mean of a tensor\n",
        "tf.reduce_mean(P) , tf.reduce_mean(Q)"
      ],
      "metadata": {
        "colab": {
          "base_uri": "https://localhost:8080/"
        },
        "id": "WaHsAVgAUCqW",
        "outputId": "e9eee511-2339-4fa3-d5dc-038db9a8e7c8"
      },
      "execution_count": null,
      "outputs": [
        {
          "output_type": "execute_result",
          "data": {
            "text/plain": [
              "(<tf.Tensor: shape=(), dtype=int32, numpy=16>,\n",
              " <tf.Tensor: shape=(), dtype=int32, numpy=12>)"
            ]
          },
          "metadata": {},
          "execution_count": 56
        }
      ]
    },
    {
      "cell_type": "code",
      "source": [
        "# To find the sum of values in a tensor\n",
        "tf.reduce_sum(P) , tf.reduce_sum(Q)"
      ],
      "metadata": {
        "colab": {
          "base_uri": "https://localhost:8080/"
        },
        "id": "kNX77ZFVUds8",
        "outputId": "17e26373-a7e1-4908-c0e8-845de203efaa"
      },
      "execution_count": null,
      "outputs": [
        {
          "output_type": "execute_result",
          "data": {
            "text/plain": [
              "(<tf.Tensor: shape=(), dtype=int32, numpy=80>,\n",
              " <tf.Tensor: shape=(), dtype=int32, numpy=50>)"
            ]
          },
          "metadata": {},
          "execution_count": 57
        }
      ]
    },
    {
      "cell_type": "code",
      "source": [
        "# This R and S tensors are just created to include some float values , the var and std could be done on normal integer data too\n",
        "R = tf.constant(np.arange(0,1,0.1))\n",
        "S = tf.constant(np.arange(1,2,0.1))\n",
        "R , R.dtype, R.ndim , R.shape , S , S.dtype, S.ndim , S.shape"
      ],
      "metadata": {
        "colab": {
          "base_uri": "https://localhost:8080/"
        },
        "id": "nTRI0kzoV8pU",
        "outputId": "f80b7c16-60db-47c0-a5a9-e4a67582666a"
      },
      "execution_count": null,
      "outputs": [
        {
          "output_type": "execute_result",
          "data": {
            "text/plain": [
              "(<tf.Tensor: shape=(10,), dtype=float64, numpy=array([0. , 0.1, 0.2, 0.3, 0.4, 0.5, 0.6, 0.7, 0.8, 0.9])>,\n",
              " tf.float64,\n",
              " 1,\n",
              " TensorShape([10]),\n",
              " <tf.Tensor: shape=(10,), dtype=float64, numpy=array([1. , 1.1, 1.2, 1.3, 1.4, 1.5, 1.6, 1.7, 1.8, 1.9])>,\n",
              " tf.float64,\n",
              " 1,\n",
              " TensorShape([10]))"
            ]
          },
          "metadata": {},
          "execution_count": 58
        }
      ]
    },
    {
      "cell_type": "code",
      "source": [
        "# Earlier we were using math.reduce functions but var and std require a different tf probs library (can also be done without importing this library) so we import that\n",
        "# The alternate step for doing this without importing a different library is shown later below\n",
        "import tensorflow_probability as tfp"
      ],
      "metadata": {
        "id": "buQHKr7ZXPyn"
      },
      "execution_count": null,
      "outputs": []
    },
    {
      "cell_type": "code",
      "source": [
        "# To find the variance of a tensor in tensorflow\n",
        "tfp.stats.variance(P) , tfp.stats.variance(Q) , tfp.stats.variance(R) , tfp.stats.variance(S)"
      ],
      "metadata": {
        "colab": {
          "base_uri": "https://localhost:8080/"
        },
        "id": "9QaekoZgUq8F",
        "outputId": "99d582ef-e547-4171-ccc5-a754c61638dd"
      },
      "execution_count": null,
      "outputs": [
        {
          "output_type": "execute_result",
          "data": {
            "text/plain": [
              "(<tf.Tensor: shape=(), dtype=int32, numpy=23>,\n",
              " <tf.Tensor: shape=(2,), dtype=int32, numpy=array([25, 25], dtype=int32)>,\n",
              " <tf.Tensor: shape=(), dtype=float64, numpy=0.0825>,\n",
              " <tf.Tensor: shape=(), dtype=float64, numpy=0.08250000000000016>)"
            ]
          },
          "metadata": {},
          "execution_count": 60
        }
      ]
    },
    {
      "cell_type": "code",
      "source": [
        "# To find the standard deviation of values in a tensor\n",
        "# Note that here we are using only the tensors which ahve float values\n",
        "# We cannot use the tensors which have int data type directly , as it is not supported\n",
        "tfp.stats.stddev(R) , tfp.stats.stddev(S)"
      ],
      "metadata": {
        "colab": {
          "base_uri": "https://localhost:8080/"
        },
        "id": "G5i1Mn12VuNb",
        "outputId": "5b986df2-8f5b-4851-d7ec-cae7ba0aa1e1"
      },
      "execution_count": null,
      "outputs": [
        {
          "output_type": "execute_result",
          "data": {
            "text/plain": [
              "(<tf.Tensor: shape=(), dtype=float64, numpy=0.2872281323269014>,\n",
              " <tf.Tensor: shape=(), dtype=float64, numpy=0.2872281323269017>)"
            ]
          },
          "metadata": {},
          "execution_count": 61
        }
      ]
    },
    {
      "cell_type": "code",
      "source": [
        "# Here we are finding the std of a tensor with originally int type values by casting them into float type values\n",
        "tfp.stats.stddev(tf.cast(P, dtype = tf.float32)) , tfp.stats.stddev(tf.cast(Q, dtype = tf.float32))"
      ],
      "metadata": {
        "colab": {
          "base_uri": "https://localhost:8080/"
        },
        "id": "LpX7eSFDZktQ",
        "outputId": "75323f14-f63b-4b6d-dd6f-b1ad7f990d4c"
      },
      "execution_count": null,
      "outputs": [
        {
          "output_type": "execute_result",
          "data": {
            "text/plain": [
              "(<tf.Tensor: shape=(), dtype=float32, numpy=4.857983>,\n",
              " <tf.Tensor: shape=(2,), dtype=float32, numpy=array([5., 5.], dtype=float32)>)"
            ]
          },
          "metadata": {},
          "execution_count": 62
        }
      ]
    },
    {
      "cell_type": "markdown",
      "source": [
        "Finding mean and standard deviation without using tensorflow probability"
      ],
      "metadata": {
        "id": "bJi834EzjWWu"
      }
    },
    {
      "cell_type": "code",
      "source": [
        "# Find the variance of our E tensor using reduce.math\n",
        "tf.math.reduce_variance(tf.cast(P, dtype = tf.float32)) , tf.math.reduce_variance(tf.cast(Q, dtype = tf.float32))"
      ],
      "metadata": {
        "colab": {
          "base_uri": "https://localhost:8080/"
        },
        "id": "Iq576HyDfJ2J",
        "outputId": "41a8a1d6-b210-4fc9-e100-a0ebfb42acd2"
      },
      "execution_count": null,
      "outputs": [
        {
          "output_type": "execute_result",
          "data": {
            "text/plain": [
              "(<tf.Tensor: shape=(), dtype=float32, numpy=23.6>,\n",
              " <tf.Tensor: shape=(), dtype=float32, numpy=31.25>)"
            ]
          },
          "metadata": {},
          "execution_count": 63
        }
      ]
    },
    {
      "cell_type": "code",
      "source": [
        "# Find the std of our E tensor using reduce.math\n",
        "tf.math.reduce_std(tf.cast(P, dtype = tf.float32)) , tf.math.reduce_std(tf.cast(Q, dtype = tf.float32))"
      ],
      "metadata": {
        "colab": {
          "base_uri": "https://localhost:8080/"
        },
        "id": "fC-o8f5wi2uI",
        "outputId": "d15dcfd6-1493-4d69-8ca5-daa456cc61a4"
      },
      "execution_count": null,
      "outputs": [
        {
          "output_type": "execute_result",
          "data": {
            "text/plain": [
              "(<tf.Tensor: shape=(), dtype=float32, numpy=4.857983>,\n",
              " <tf.Tensor: shape=(), dtype=float32, numpy=5.59017>)"
            ]
          },
          "metadata": {},
          "execution_count": 64
        }
      ]
    },
    {
      "cell_type": "markdown",
      "source": [
        "### Finding the positional maximum and minimum of a tensor"
      ],
      "metadata": {
        "id": "IXZK43iOaQsH"
      }
    },
    {
      "cell_type": "code",
      "source": [
        "# Create a new tensor for finding positional minimum and maximum\n",
        "tf.random.set_seed(69)\n",
        "F = tf.random.uniform(shape=[50])\n",
        "F"
      ],
      "metadata": {
        "colab": {
          "base_uri": "https://localhost:8080/"
        },
        "id": "TFwqRGvSkFHi",
        "outputId": "7b3a1638-d97f-45da-bce2-8ccf9add47a3"
      },
      "execution_count": null,
      "outputs": [
        {
          "output_type": "execute_result",
          "data": {
            "text/plain": [
              "<tf.Tensor: shape=(50,), dtype=float32, numpy=\n",
              "array([5.3272355e-01, 7.6764774e-01, 7.6187789e-01, 2.5841391e-01,\n",
              "       5.6738329e-01, 1.3471830e-01, 4.7002292e-01, 3.5524964e-02,\n",
              "       3.8393617e-01, 1.6981947e-01, 4.4886672e-01, 5.6220615e-01,\n",
              "       5.1936674e-01, 7.7804303e-01, 3.4848118e-01, 5.6664705e-01,\n",
              "       6.1973441e-01, 3.1386054e-01, 5.0863159e-01, 1.2493873e-01,\n",
              "       6.2286139e-01, 3.9865887e-01, 8.9437950e-01, 8.0250156e-01,\n",
              "       6.0539913e-01, 6.2322211e-01, 6.9168448e-01, 3.2230341e-01,\n",
              "       5.5286503e-01, 6.8580091e-01, 9.3656206e-01, 7.2395742e-01,\n",
              "       9.7975111e-01, 6.0671389e-01, 9.5694554e-01, 8.5030973e-01,\n",
              "       2.1026397e-01, 6.1866856e-01, 7.4614286e-01, 9.3863714e-01,\n",
              "       7.7380419e-01, 9.8344505e-01, 8.8855958e-01, 5.8377409e-01,\n",
              "       2.5783134e-01, 4.4455886e-02, 1.0716915e-04, 4.2767525e-03,\n",
              "       4.6135592e-01, 3.7454653e-01], dtype=float32)>"
            ]
          },
          "metadata": {},
          "execution_count": 65
        }
      ]
    },
    {
      "cell_type": "code",
      "source": [
        "# Find the positional maximum\n",
        "tf.argmax(F)"
      ],
      "metadata": {
        "colab": {
          "base_uri": "https://localhost:8080/"
        },
        "id": "TzuDy3mnkTBf",
        "outputId": "3663434e-0b48-4e81-d73a-6a60ffd44b5f"
      },
      "execution_count": null,
      "outputs": [
        {
          "output_type": "execute_result",
          "data": {
            "text/plain": [
              "<tf.Tensor: shape=(), dtype=int64, numpy=41>"
            ]
          },
          "metadata": {},
          "execution_count": 66
        }
      ]
    },
    {
      "cell_type": "code",
      "source": [
        "# Index on our largest value position\n",
        "F[tf.argmax(F)]"
      ],
      "metadata": {
        "colab": {
          "base_uri": "https://localhost:8080/"
        },
        "id": "wNSKVbY3ks1W",
        "outputId": "a1aa407f-5a0d-4ef6-ae1c-3fd43f4c2617"
      },
      "execution_count": null,
      "outputs": [
        {
          "output_type": "execute_result",
          "data": {
            "text/plain": [
              "<tf.Tensor: shape=(), dtype=float32, numpy=0.98344505>"
            ]
          },
          "metadata": {},
          "execution_count": 67
        }
      ]
    },
    {
      "cell_type": "code",
      "source": [
        "# Find the max value of F\n",
        "tf.reduce_max(F)"
      ],
      "metadata": {
        "colab": {
          "base_uri": "https://localhost:8080/"
        },
        "id": "3adL1cc5lHaW",
        "outputId": "50c1ce46-fa6c-4212-811e-a72da8420356"
      },
      "execution_count": null,
      "outputs": [
        {
          "output_type": "execute_result",
          "data": {
            "text/plain": [
              "<tf.Tensor: shape=(), dtype=float32, numpy=0.98344505>"
            ]
          },
          "metadata": {},
          "execution_count": 68
        }
      ]
    },
    {
      "cell_type": "markdown",
      "source": [
        "We can see that our element in largest value position matches our maximum valued element in the tensor so it is justified"
      ],
      "metadata": {
        "id": "pChrqmnhmLhF"
      }
    },
    {
      "cell_type": "markdown",
      "source": [
        "Similarly we can find the positional minimum using argmin , and check whether the element in that psotion matches the lowest element in the tensor"
      ],
      "metadata": {
        "id": "iB81JoxXlrP2"
      }
    },
    {
      "cell_type": "markdown",
      "source": [
        "### Squeezing a tensor (removing all single dimensions)"
      ],
      "metadata": {
        "id": "J9dpjbj1mGhf"
      }
    },
    {
      "cell_type": "code",
      "source": [
        "# Create a tensor to get started\n",
        "tf.random.set_seed(69)\n",
        "G = tf.constant(tf.random.uniform(shape=[50]), shape=(1,1,1,1,50))\n",
        "G"
      ],
      "metadata": {
        "colab": {
          "base_uri": "https://localhost:8080/"
        },
        "id": "hlCAx2TEmlkp",
        "outputId": "a6f2033f-823f-4f2c-b333-28b1a387632f"
      },
      "execution_count": null,
      "outputs": [
        {
          "output_type": "execute_result",
          "data": {
            "text/plain": [
              "<tf.Tensor: shape=(1, 1, 1, 1, 50), dtype=float32, numpy=\n",
              "array([[[[[5.3272355e-01, 7.6764774e-01, 7.6187789e-01, 2.5841391e-01,\n",
              "           5.6738329e-01, 1.3471830e-01, 4.7002292e-01, 3.5524964e-02,\n",
              "           3.8393617e-01, 1.6981947e-01, 4.4886672e-01, 5.6220615e-01,\n",
              "           5.1936674e-01, 7.7804303e-01, 3.4848118e-01, 5.6664705e-01,\n",
              "           6.1973441e-01, 3.1386054e-01, 5.0863159e-01, 1.2493873e-01,\n",
              "           6.2286139e-01, 3.9865887e-01, 8.9437950e-01, 8.0250156e-01,\n",
              "           6.0539913e-01, 6.2322211e-01, 6.9168448e-01, 3.2230341e-01,\n",
              "           5.5286503e-01, 6.8580091e-01, 9.3656206e-01, 7.2395742e-01,\n",
              "           9.7975111e-01, 6.0671389e-01, 9.5694554e-01, 8.5030973e-01,\n",
              "           2.1026397e-01, 6.1866856e-01, 7.4614286e-01, 9.3863714e-01,\n",
              "           7.7380419e-01, 9.8344505e-01, 8.8855958e-01, 5.8377409e-01,\n",
              "           2.5783134e-01, 4.4455886e-02, 1.0716915e-04, 4.2767525e-03,\n",
              "           4.6135592e-01, 3.7454653e-01]]]]], dtype=float32)>"
            ]
          },
          "metadata": {},
          "execution_count": 69
        }
      ]
    },
    {
      "cell_type": "code",
      "source": [
        "G.shape"
      ],
      "metadata": {
        "colab": {
          "base_uri": "https://localhost:8080/"
        },
        "id": "e9_PMOeunAqJ",
        "outputId": "6bc735a9-0e43-4dd9-bc8f-6814d970aee8"
      },
      "execution_count": null,
      "outputs": [
        {
          "output_type": "execute_result",
          "data": {
            "text/plain": [
              "TensorShape([1, 1, 1, 1, 50])"
            ]
          },
          "metadata": {},
          "execution_count": 70
        }
      ]
    },
    {
      "cell_type": "code",
      "source": [
        "G_squeezed = tf.squeeze(G)\n",
        "G_squeezed, G_squeezed.shape"
      ],
      "metadata": {
        "colab": {
          "base_uri": "https://localhost:8080/"
        },
        "id": "GxVUIQWMnMqV",
        "outputId": "cf0a44cb-4c22-4486-9a7e-5429ee229877"
      },
      "execution_count": null,
      "outputs": [
        {
          "output_type": "execute_result",
          "data": {
            "text/plain": [
              "(<tf.Tensor: shape=(50,), dtype=float32, numpy=\n",
              " array([5.3272355e-01, 7.6764774e-01, 7.6187789e-01, 2.5841391e-01,\n",
              "        5.6738329e-01, 1.3471830e-01, 4.7002292e-01, 3.5524964e-02,\n",
              "        3.8393617e-01, 1.6981947e-01, 4.4886672e-01, 5.6220615e-01,\n",
              "        5.1936674e-01, 7.7804303e-01, 3.4848118e-01, 5.6664705e-01,\n",
              "        6.1973441e-01, 3.1386054e-01, 5.0863159e-01, 1.2493873e-01,\n",
              "        6.2286139e-01, 3.9865887e-01, 8.9437950e-01, 8.0250156e-01,\n",
              "        6.0539913e-01, 6.2322211e-01, 6.9168448e-01, 3.2230341e-01,\n",
              "        5.5286503e-01, 6.8580091e-01, 9.3656206e-01, 7.2395742e-01,\n",
              "        9.7975111e-01, 6.0671389e-01, 9.5694554e-01, 8.5030973e-01,\n",
              "        2.1026397e-01, 6.1866856e-01, 7.4614286e-01, 9.3863714e-01,\n",
              "        7.7380419e-01, 9.8344505e-01, 8.8855958e-01, 5.8377409e-01,\n",
              "        2.5783134e-01, 4.4455886e-02, 1.0716915e-04, 4.2767525e-03,\n",
              "        4.6135592e-01, 3.7454653e-01], dtype=float32)>,\n",
              " TensorShape([50]))"
            ]
          },
          "metadata": {},
          "execution_count": 71
        }
      ]
    },
    {
      "cell_type": "markdown",
      "source": [
        "### One-hot encoding tensors"
      ],
      "metadata": {
        "id": "Mza9Ps1DnYtk"
      }
    },
    {
      "cell_type": "code",
      "source": [
        "# Create a list of indices\n",
        "some_list = [0,1,2,3] # could be red, green , blue , purple\n",
        "\n",
        "# One hot encode our list of indices\n",
        "tf.one_hot(some_list, depth = 4)"
      ],
      "metadata": {
        "colab": {
          "base_uri": "https://localhost:8080/"
        },
        "id": "Ihv3slJk0eVO",
        "outputId": "d26d0d59-a70c-491c-9f0a-549184ecb714"
      },
      "execution_count": null,
      "outputs": [
        {
          "output_type": "execute_result",
          "data": {
            "text/plain": [
              "<tf.Tensor: shape=(4, 4), dtype=float32, numpy=\n",
              "array([[1., 0., 0., 0.],\n",
              "       [0., 1., 0., 0.],\n",
              "       [0., 0., 1., 0.],\n",
              "       [0., 0., 0., 1.]], dtype=float32)>"
            ]
          },
          "metadata": {},
          "execution_count": 72
        }
      ]
    },
    {
      "cell_type": "code",
      "source": [
        "# Specifying custom values for one hot encoding\n",
        "tf.one_hot(some_list,depth = 4, on_value = \"I'm diggin it\", off_value = \"I'm not diggin it\")"
      ],
      "metadata": {
        "colab": {
          "base_uri": "https://localhost:8080/"
        },
        "id": "OmIkC8xC1EaB",
        "outputId": "80853248-efce-4871-809a-091ecad18fb0"
      },
      "execution_count": null,
      "outputs": [
        {
          "output_type": "execute_result",
          "data": {
            "text/plain": [
              "<tf.Tensor: shape=(4, 4), dtype=string, numpy=\n",
              "array([[b\"I'm diggin it\", b\"I'm not diggin it\", b\"I'm not diggin it\",\n",
              "        b\"I'm not diggin it\"],\n",
              "       [b\"I'm not diggin it\", b\"I'm diggin it\", b\"I'm not diggin it\",\n",
              "        b\"I'm not diggin it\"],\n",
              "       [b\"I'm not diggin it\", b\"I'm not diggin it\", b\"I'm diggin it\",\n",
              "        b\"I'm not diggin it\"],\n",
              "       [b\"I'm not diggin it\", b\"I'm not diggin it\", b\"I'm not diggin it\",\n",
              "        b\"I'm diggin it\"]], dtype=object)>"
            ]
          },
          "metadata": {},
          "execution_count": 74
        }
      ]
    },
    {
      "cell_type": "markdown",
      "source": [
        "### Squaring, log, square root"
      ],
      "metadata": {
        "id": "v_V4nePw1k4_"
      }
    },
    {
      "cell_type": "code",
      "source": [
        "# Create a new tensor\n",
        "H = tf.range(1,10)\n",
        "H"
      ],
      "metadata": {
        "colab": {
          "base_uri": "https://localhost:8080/"
        },
        "id": "nT7am1Lv2AaH",
        "outputId": "f3ca712c-be33-4458-8d3e-8801dcc868c1"
      },
      "execution_count": null,
      "outputs": [
        {
          "output_type": "execute_result",
          "data": {
            "text/plain": [
              "<tf.Tensor: shape=(9,), dtype=int32, numpy=array([1, 2, 3, 4, 5, 6, 7, 8, 9], dtype=int32)>"
            ]
          },
          "metadata": {},
          "execution_count": 75
        }
      ]
    },
    {
      "cell_type": "code",
      "source": [
        "# Squaring it\n",
        "tf.square(H)"
      ],
      "metadata": {
        "colab": {
          "base_uri": "https://localhost:8080/"
        },
        "id": "W1J1kDg32JEv",
        "outputId": "ed852286-517f-4acb-cace-0a70fab668ad"
      },
      "execution_count": null,
      "outputs": [
        {
          "output_type": "execute_result",
          "data": {
            "text/plain": [
              "<tf.Tensor: shape=(9,), dtype=int32, numpy=array([ 1,  4,  9, 16, 25, 36, 49, 64, 81], dtype=int32)>"
            ]
          },
          "metadata": {},
          "execution_count": 76
        }
      ]
    },
    {
      "cell_type": "code",
      "source": [
        "# Find the sqaure root (method requires non-int type, thus we make it float)\n",
        "tf.sqrt(tf.cast(H, dtype = tf.float32))"
      ],
      "metadata": {
        "colab": {
          "base_uri": "https://localhost:8080/"
        },
        "id": "7No7jCpX2OLX",
        "outputId": "f31d1431-7a00-4b07-f061-56b02d34c6aa"
      },
      "execution_count": null,
      "outputs": [
        {
          "output_type": "execute_result",
          "data": {
            "text/plain": [
              "<tf.Tensor: shape=(9,), dtype=float32, numpy=\n",
              "array([1.       , 1.4142135, 1.7320508, 2.       , 2.236068 , 2.4494898,\n",
              "       2.6457512, 2.828427 , 3.       ], dtype=float32)>"
            ]
          },
          "metadata": {},
          "execution_count": 78
        }
      ]
    },
    {
      "cell_type": "code",
      "source": [
        "# Find the log\n",
        "tf.math.log(tf.cast(H, dtype=tf.float32))"
      ],
      "metadata": {
        "colab": {
          "base_uri": "https://localhost:8080/"
        },
        "id": "eU5NoxeL2lkG",
        "outputId": "ee0db35e-77d2-4d02-bb19-0be2ae7344c1"
      },
      "execution_count": null,
      "outputs": [
        {
          "output_type": "execute_result",
          "data": {
            "text/plain": [
              "<tf.Tensor: shape=(9,), dtype=float32, numpy=\n",
              "array([0.       , 0.6931472, 1.0986123, 1.3862944, 1.609438 , 1.7917595,\n",
              "       1.9459102, 2.0794415, 2.1972246], dtype=float32)>"
            ]
          },
          "metadata": {},
          "execution_count": 80
        }
      ]
    },
    {
      "cell_type": "markdown",
      "source": [
        "### Tensors and NumPy\n",
        "\n",
        "Tensorflow interacts beautifully with NumPy array.\n",
        "\n",
        "🔑**Note**: One of the main differences between a TensorFlow tensor and a NumPy array is that a TensorFlow tensor can be run on a TPU or GPU (for faster numerical processing)."
      ],
      "metadata": {
        "id": "1eylh_593IaW"
      }
    },
    {
      "cell_type": "code",
      "source": [
        "# Create a tensor directly from NumPy array\n",
        "J = tf.constant(np.array([6,9,69,6969]))\n",
        "J"
      ],
      "metadata": {
        "colab": {
          "base_uri": "https://localhost:8080/"
        },
        "id": "o7kLbKwg3kzG",
        "outputId": "a6e43422-a29f-4821-d9ea-83caf6535728"
      },
      "execution_count": null,
      "outputs": [
        {
          "output_type": "execute_result",
          "data": {
            "text/plain": [
              "<tf.Tensor: shape=(4,), dtype=int64, numpy=array([   6,    9,   69, 6969])>"
            ]
          },
          "metadata": {},
          "execution_count": 81
        }
      ]
    },
    {
      "cell_type": "code",
      "source": [
        "# Convert our tensor back to a numpy array\n",
        "np.array(J), type(np.array(J))"
      ],
      "metadata": {
        "colab": {
          "base_uri": "https://localhost:8080/"
        },
        "id": "R52AXbR64Jw_",
        "outputId": "224aae04-592b-4140-826d-5e95ea7fc06f"
      },
      "execution_count": null,
      "outputs": [
        {
          "output_type": "execute_result",
          "data": {
            "text/plain": [
              "(array([   6,    9,   69, 6969]), numpy.ndarray)"
            ]
          },
          "metadata": {},
          "execution_count": 82
        }
      ]
    },
    {
      "cell_type": "code",
      "source": [
        "# Convert tensor J into a Numpy array\n",
        "J.numpy(), type(J.numpy())"
      ],
      "metadata": {
        "colab": {
          "base_uri": "https://localhost:8080/"
        },
        "id": "_2Hwe4Gj4tfb",
        "outputId": "901f454b-d41b-49a6-dbf7-caab548759e1"
      },
      "execution_count": null,
      "outputs": [
        {
          "output_type": "execute_result",
          "data": {
            "text/plain": [
              "(array([   6,    9,   69, 6969]), numpy.ndarray)"
            ]
          },
          "metadata": {},
          "execution_count": 83
        }
      ]
    },
    {
      "cell_type": "code",
      "source": [
        "J = tf.constant([3.0])\n",
        "J.numpy()"
      ],
      "metadata": {
        "colab": {
          "base_uri": "https://localhost:8080/"
        },
        "id": "PHktf6Od43Fe",
        "outputId": "831200e3-f526-4f30-9cf7-9e1a3d855847"
      },
      "execution_count": null,
      "outputs": [
        {
          "output_type": "execute_result",
          "data": {
            "text/plain": [
              "array([3.], dtype=float32)"
            ]
          },
          "metadata": {},
          "execution_count": 84
        }
      ]
    },
    {
      "cell_type": "code",
      "source": [
        "# The default types of each are slightly different\n",
        "numpy_J = tf.constant(np.array([3.,7.,10.]))\n",
        "tensor_J = tf.constant([3.,7.,10.])\n",
        "# Check the datatypes of each\n",
        "numpy_J.dtype, tensor_J.dtype\n"
      ],
      "metadata": {
        "colab": {
          "base_uri": "https://localhost:8080/"
        },
        "id": "xxSU9zKu5JSe",
        "outputId": "7ef6e296-7699-44fc-ac74-7e3bc8708df9"
      },
      "execution_count": null,
      "outputs": [
        {
          "output_type": "execute_result",
          "data": {
            "text/plain": [
              "(tf.float64, tf.float32)"
            ]
          },
          "metadata": {},
          "execution_count": 86
        }
      ]
    },
    {
      "cell_type": "code",
      "source": [
        "### Finding access to GPUs\n",
        "tf.config.list_physical_devices()"
      ],
      "metadata": {
        "colab": {
          "base_uri": "https://localhost:8080/"
        },
        "id": "9_ldX5L_5uq0",
        "outputId": "a1bfa194-0097-4c77-d9a4-f6e5641aa84e"
      },
      "execution_count": null,
      "outputs": [
        {
          "output_type": "execute_result",
          "data": {
            "text/plain": [
              "[PhysicalDevice(name='/physical_device:CPU:0', device_type='CPU')]"
            ]
          },
          "metadata": {},
          "execution_count": 87
        }
      ]
    },
    {
      "cell_type": "markdown",
      "source": [
        "🔑**Note**: If you have access to a CUDA-enabled GPU , TensorFlow will automatically use it whenever possible."
      ],
      "metadata": {
        "id": "fEr_nL357nyN"
      }
    },
    {
      "cell_type": "markdown",
      "source": [
        "## **TensorFlow Exercises** for Practice"
      ],
      "metadata": {
        "id": "xMUdt77V-U5c"
      }
    },
    {
      "cell_type": "code",
      "source": [
        "scalar = tf.constant(69)\n",
        "vector = tf.constant([1,3,5,7,9])\n",
        "matrix = tf.constant([[[1,2,3],\n",
        "                       [4,5,6]],\n",
        "                      [[7,8,9],\n",
        "                       [10,11,12]]])\n",
        "tensor = tf.constant([1,2,3,4,5])\n",
        "print(scalar.shape, vector.shape, matrix.shape, tensor.shape)\n",
        "print(scalar.ndim, vector.ndim, matrix.ndim, tensor.ndim)\n",
        "print(tf.size(scalar), tf.size(vector), tf.size(matrix), tf.size(tensor))"
      ],
      "metadata": {
        "colab": {
          "base_uri": "https://localhost:8080/"
        },
        "id": "J7sNbzQH-jqS",
        "outputId": "f120fbc9-637b-46cd-fc45-e0feaf401da4"
      },
      "execution_count": null,
      "outputs": [
        {
          "output_type": "stream",
          "name": "stdout",
          "text": [
            "() (5,) (2, 2, 3) (5,)\n",
            "0 1 3 1\n",
            "tf.Tensor(1, shape=(), dtype=int32) tf.Tensor(5, shape=(), dtype=int32) tf.Tensor(12, shape=(), dtype=int32) tf.Tensor(5, shape=(), dtype=int32)\n"
          ]
        }
      ]
    },
    {
      "cell_type": "code",
      "source": [
        "rando_tensor = tf.random.uniform(shape = [5,300], maxval = 1)\n",
        "rando_tensor_2 = tf.random.uniform(shape = [5,300], maxval = 1)\n",
        "print(rando_tensor)\n",
        "print(rando_tensor_2)\n",
        "tf.matmul(rando_tensor, tf.transpose(rando_tensor_2)) , rando_tensor*rando_tensor_2"
      ],
      "metadata": {
        "colab": {
          "base_uri": "https://localhost:8080/"
        },
        "id": "vwhzGcvZAkM6",
        "outputId": "83ac0dd0-339e-47e0-c619-91a21d033667"
      },
      "execution_count": null,
      "outputs": [
        {
          "output_type": "stream",
          "name": "stdout",
          "text": [
            "tf.Tensor(\n",
            "[[0.66971385 0.42558372 0.9293258  ... 0.94548476 0.59057057 0.297678  ]\n",
            " [0.57994354 0.7944716  0.08377779 ... 0.22587013 0.31224263 0.0871948 ]\n",
            " [0.4165398  0.792717   0.1444757  ... 0.5325849  0.1004411  0.450073  ]\n",
            " [0.5230192  0.5122311  0.9533144  ... 0.33249736 0.03613663 0.31080854]\n",
            " [0.00616026 0.91481316 0.58900213 ... 0.17114961 0.75827384 0.33577096]], shape=(5, 300), dtype=float32)\n",
            "tf.Tensor(\n",
            "[[0.6216024  0.21715796 0.82227314 ... 0.4070983  0.6445987  0.83410656]\n",
            " [0.54126227 0.5809537  0.54659    ... 0.9756745  0.15846753 0.08773339]\n",
            " [0.20031321 0.7614219  0.39034605 ... 0.43138278 0.9360678  0.6819711 ]\n",
            " [0.5777608  0.04499626 0.04300141 ... 0.260615   0.9956461  0.2125622 ]\n",
            " [0.5419458  0.47968936 0.12248731 ... 0.3929026  0.24408484 0.61974657]], shape=(5, 300), dtype=float32)\n"
          ]
        },
        {
          "output_type": "execute_result",
          "data": {
            "text/plain": [
              "(<tf.Tensor: shape=(5, 5), dtype=float32, numpy=\n",
              " array([[83.138756, 74.70706 , 74.674225, 79.33263 , 77.250435],\n",
              "        [80.748535, 73.676575, 70.96691 , 80.372314, 76.73826 ],\n",
              "        [74.102196, 69.296936, 70.486946, 75.55278 , 76.19861 ],\n",
              "        [86.406204, 79.307594, 75.44869 , 84.51643 , 82.56376 ],\n",
              "        [75.76041 , 68.23783 , 64.88422 , 75.976974, 70.76161 ]],\n",
              "       dtype=float32)>,\n",
              " <tf.Tensor: shape=(5, 300), dtype=float32, numpy=\n",
              " array([[0.41629574, 0.09241889, 0.7641597 , ..., 0.38490522, 0.38068104,\n",
              "         0.24829517],\n",
              "        [0.31390154, 0.46155125, 0.0457921 , ..., 0.22037573, 0.04948032,\n",
              "         0.0076499 ],\n",
              "        [0.08343842, 0.6035921 , 0.05639552, ..., 0.22974795, 0.09401968,\n",
              "         0.30693677],\n",
              "        [0.30218   , 0.02304848, 0.04099387, ..., 0.0866538 , 0.03597929,\n",
              "         0.06606615],\n",
              "        [0.00333853, 0.43882614, 0.07214528, ..., 0.06724513, 0.18508315,\n",
              "         0.2080929 ]], dtype=float32)>)"
            ]
          },
          "metadata": {},
          "execution_count": 94
        }
      ]
    },
    {
      "cell_type": "code",
      "source": [
        "rando_tensor_3 = tf.random.Generator.from_seed(69)\n",
        "rando_tensor_3 = tf.random.uniform(shape=[224,224,3], maxval = 1)\n",
        "tf.reduce_min(rando_tensor_3, axis=0), tf.reduce_max(rando_tensor_3, axis=0)"
      ],
      "metadata": {
        "colab": {
          "base_uri": "https://localhost:8080/"
        },
        "id": "_NupxfEiEoG_",
        "outputId": "6ea22e5c-f938-4d89-a9c1-2b5ad7f6979c"
      },
      "execution_count": null,
      "outputs": [
        {
          "output_type": "execute_result",
          "data": {
            "text/plain": [
              "(<tf.Tensor: shape=(224, 3), dtype=float32, numpy=\n",
              " array([[3.62980366e-03, 8.52811337e-03, 6.43491745e-04],\n",
              "        [6.39557838e-04, 3.54254246e-03, 4.42802906e-03],\n",
              "        [2.51519680e-03, 2.17148066e-02, 2.87044048e-03],\n",
              "        [3.98027897e-03, 4.39774990e-03, 1.44398212e-03],\n",
              "        [1.87325478e-03, 8.68272781e-03, 4.85265255e-03],\n",
              "        [8.16702843e-04, 5.82575798e-03, 5.26309013e-04],\n",
              "        [4.99010086e-04, 1.44730806e-02, 7.61532784e-03],\n",
              "        [1.17063522e-04, 1.48880482e-03, 7.40635395e-03],\n",
              "        [1.75392628e-03, 5.45918941e-03, 2.25520134e-03],\n",
              "        [4.64916229e-04, 7.43401051e-03, 1.58953667e-03],\n",
              "        [3.92556190e-03, 3.60560417e-03, 9.38987732e-03],\n",
              "        [1.40570402e-02, 2.88844109e-04, 2.77233124e-03],\n",
              "        [1.67608261e-03, 5.40840626e-03, 6.56390190e-03],\n",
              "        [4.51326370e-04, 2.35080719e-03, 8.74686241e-03],\n",
              "        [4.71472740e-03, 1.71124935e-03, 8.64684582e-03],\n",
              "        [7.04061985e-03, 5.46956062e-03, 8.66091251e-03],\n",
              "        [3.88026237e-04, 1.55138969e-03, 3.13806534e-03],\n",
              "        [4.63116169e-03, 1.47843361e-03, 5.25259972e-03],\n",
              "        [1.16522312e-02, 1.27962828e-02, 2.13718414e-03],\n",
              "        [4.82439995e-04, 3.41331959e-03, 1.06179714e-03],\n",
              "        [9.31668282e-03, 5.86509705e-05, 5.44190407e-04],\n",
              "        [2.41661072e-03, 1.86443329e-04, 1.62577629e-03],\n",
              "        [7.58409500e-04, 2.02584267e-03, 3.95905972e-03],\n",
              "        [1.57558918e-03, 1.09845400e-02, 1.83439255e-03],\n",
              "        [5.38790226e-03, 8.31401348e-03, 2.07567215e-03],\n",
              "        [1.73676014e-03, 5.44667244e-04, 2.42769718e-03],\n",
              "        [2.07340717e-03, 1.14387274e-02, 1.98578835e-03],\n",
              "        [5.13195992e-04, 6.38782978e-03, 5.19204140e-03],\n",
              "        [3.98147106e-03, 1.02603436e-03, 1.04421377e-02],\n",
              "        [8.80360603e-04, 5.16176224e-04, 1.71959400e-03],\n",
              "        [1.91813707e-02, 1.49488449e-03, 2.78949738e-05],\n",
              "        [1.65214539e-02, 3.35264206e-03, 3.48842144e-03],\n",
              "        [2.64191628e-03, 1.64568424e-03, 6.90829754e-03],\n",
              "        [4.47082520e-03, 5.58733940e-03, 9.96589661e-05],\n",
              "        [5.11646271e-04, 2.26187706e-03, 2.00593472e-03],\n",
              "        [3.96072865e-03, 1.87849998e-03, 8.59284401e-03],\n",
              "        [6.14750385e-03, 8.48436356e-03, 3.20851803e-03],\n",
              "        [4.36162949e-03, 3.49044800e-04, 4.81998920e-03],\n",
              "        [1.50946379e-02, 3.39627266e-04, 8.84652138e-03],\n",
              "        [8.00037384e-03, 5.27095795e-03, 1.21343136e-03],\n",
              "        [4.55033779e-03, 2.03251839e-03, 1.04478598e-02],\n",
              "        [5.97476959e-04, 4.94551659e-03, 1.07932091e-03],\n",
              "        [1.18359327e-02, 8.73327255e-04, 4.40812111e-03],\n",
              "        [9.57250595e-04, 3.07881832e-03, 2.11107731e-03],\n",
              "        [3.42488289e-04, 1.10960007e-03, 8.83221626e-04],\n",
              "        [5.33699989e-04, 7.85589218e-04, 5.67877293e-03],\n",
              "        [5.65409660e-04, 4.12940979e-03, 3.88741493e-03],\n",
              "        [2.15530396e-04, 9.73820686e-04, 2.62320042e-03],\n",
              "        [7.84957409e-03, 3.90529633e-04, 6.27911091e-03],\n",
              "        [5.70368767e-03, 2.65002251e-03, 5.52415848e-04],\n",
              "        [1.00827217e-03, 9.06956196e-03, 6.41214848e-03],\n",
              "        [6.95502758e-03, 2.73108482e-03, 1.60574913e-03],\n",
              "        [1.14250183e-03, 1.46329403e-03, 6.34348392e-03],\n",
              "        [1.00195408e-03, 3.20732594e-03, 7.49874115e-03],\n",
              "        [3.68714333e-04, 1.38772726e-02, 1.22177601e-03],\n",
              "        [1.46186352e-03, 1.86061859e-03, 1.71368122e-02],\n",
              "        [3.50046158e-03, 4.27949429e-03, 6.46662712e-03],\n",
              "        [7.39705563e-03, 4.02235985e-03, 2.50470638e-03],\n",
              "        [1.02268457e-02, 8.75926018e-03, 5.37407398e-03],\n",
              "        [2.03371048e-04, 1.35980844e-02, 7.26878643e-03],\n",
              "        [1.36696100e-02, 5.16366959e-03, 7.43079185e-03],\n",
              "        [4.33647633e-03, 1.37710571e-03, 2.79390812e-03],\n",
              "        [3.15773487e-03, 2.17318535e-03, 3.99947166e-04],\n",
              "        [1.45173073e-03, 9.71174240e-03, 5.10108471e-03],\n",
              "        [1.25994682e-02, 9.84668732e-04, 4.88519669e-03],\n",
              "        [5.81777096e-03, 6.32047653e-04, 1.29258633e-03],\n",
              "        [6.20567799e-03, 2.43902206e-03, 6.89435005e-03],\n",
              "        [5.20944595e-05, 9.10127163e-03, 1.37990713e-02],\n",
              "        [1.78110600e-03, 5.27095795e-03, 1.46162510e-03],\n",
              "        [1.37922764e-02, 3.30674648e-03, 8.73589516e-03],\n",
              "        [4.05073166e-03, 1.69770718e-02, 3.60059738e-03],\n",
              "        [5.83088398e-03, 1.50215626e-03, 5.87630272e-03],\n",
              "        [1.92236900e-03, 1.74570084e-03, 2.86281109e-03],\n",
              "        [4.67026234e-03, 7.37071037e-04, 3.10373306e-03],\n",
              "        [4.83882427e-03, 5.94305992e-03, 4.72307205e-03],\n",
              "        [1.50276423e-02, 1.45852566e-03, 2.39431858e-03],\n",
              "        [7.94291496e-04, 5.92279434e-03, 1.07288361e-06],\n",
              "        [6.57939911e-03, 2.12788582e-04, 3.93533707e-03],\n",
              "        [3.38077545e-03, 6.31380081e-03, 5.18333912e-03],\n",
              "        [1.00889206e-02, 3.29089165e-03, 8.91327858e-04],\n",
              "        [9.53793526e-04, 2.55775452e-03, 3.75854969e-03],\n",
              "        [8.86738300e-03, 5.65958023e-03, 5.68437576e-03],\n",
              "        [1.99173689e-02, 3.98159027e-04, 1.53565407e-03],\n",
              "        [9.17720795e-03, 3.66067886e-03, 3.95655632e-03],\n",
              "        [3.11326981e-03, 6.50167465e-04, 3.95417213e-03],\n",
              "        [3.54671478e-03, 2.83324718e-03, 6.97374344e-05],\n",
              "        [2.86263227e-02, 2.68018246e-03, 2.64513493e-03],\n",
              "        [1.10483170e-02, 2.92241573e-03, 1.73532963e-03],\n",
              "        [1.41890049e-02, 1.19485855e-02, 4.41026688e-03],\n",
              "        [1.81353092e-03, 5.75160980e-03, 3.79991531e-03],\n",
              "        [2.15554237e-03, 1.06704235e-03, 3.56066227e-03],\n",
              "        [4.03916836e-03, 2.47943401e-03, 1.29270554e-03],\n",
              "        [1.32739544e-03, 6.83724880e-03, 2.03669071e-03],\n",
              "        [1.27112865e-03, 4.23717499e-03, 1.73772573e-02],\n",
              "        [4.28020954e-03, 1.12700462e-03, 2.79366970e-03],\n",
              "        [7.27868080e-03, 8.34500790e-03, 8.76617432e-03],\n",
              "        [1.86467171e-03, 2.80212164e-02, 2.01499462e-03],\n",
              "        [9.81569290e-04, 7.51221180e-03, 3.26335430e-03],\n",
              "        [3.86881828e-03, 2.84409523e-03, 4.21285629e-04],\n",
              "        [3.14712524e-03, 8.53264332e-03, 7.90596008e-04],\n",
              "        [3.93366814e-03, 5.93066216e-04, 3.25560570e-04],\n",
              "        [6.35862350e-04, 1.05874538e-02, 2.00605392e-03],\n",
              "        [4.15539742e-03, 1.40106678e-03, 4.43911552e-03],\n",
              "        [1.44433975e-03, 2.15125084e-03, 8.10146332e-04],\n",
              "        [4.99427319e-03, 4.04393673e-03, 2.27904320e-03],\n",
              "        [7.55667686e-04, 4.54151630e-03, 1.30722523e-02],\n",
              "        [2.02115774e-02, 4.99999523e-03, 1.27124786e-03],\n",
              "        [7.25412369e-03, 1.60610676e-03, 4.31072712e-03],\n",
              "        [1.60324574e-03, 8.56995583e-04, 1.17146969e-03],\n",
              "        [7.38751888e-03, 2.62463093e-03, 1.30392313e-02],\n",
              "        [3.69656086e-03, 1.59740448e-05, 3.05974483e-03],\n",
              "        [1.23637915e-02, 1.09553337e-03, 3.75580788e-03],\n",
              "        [9.57942009e-03, 1.08640194e-02, 1.23488903e-02],\n",
              "        [4.48966026e-03, 3.83019447e-04, 1.73246861e-03],\n",
              "        [1.43527985e-04, 2.41243839e-03, 9.33408737e-05],\n",
              "        [5.08320332e-03, 3.32581997e-03, 1.17721558e-02],\n",
              "        [3.53252888e-03, 5.07724285e-03, 2.10690498e-03],\n",
              "        [2.33292580e-03, 1.02925301e-02, 1.08993053e-03],\n",
              "        [2.59017944e-03, 1.27065182e-03, 9.48786736e-03],\n",
              "        [1.96136236e-02, 4.07660007e-03, 3.32331657e-03],\n",
              "        [2.14052200e-03, 4.64463234e-03, 3.53693962e-04],\n",
              "        [4.46200371e-04, 8.44633579e-03, 4.23169136e-03],\n",
              "        [2.47716904e-04, 7.58850574e-03, 1.00345612e-02],\n",
              "        [1.89024210e-02, 2.42352486e-04, 1.58128738e-02],\n",
              "        [2.79176235e-03, 3.85713577e-03, 3.72540951e-03],\n",
              "        [2.80082226e-03, 1.04725361e-03, 5.08427620e-04],\n",
              "        [1.98674202e-03, 4.93013859e-03, 6.04069233e-03],\n",
              "        [2.37238407e-03, 2.89666653e-03, 9.05370712e-03],\n",
              "        [1.52230263e-04, 7.69853592e-04, 2.12228298e-03],\n",
              "        [5.89787960e-03, 5.35428524e-03, 3.95929813e-03],\n",
              "        [3.29494476e-04, 3.47030163e-03, 6.47103786e-03],\n",
              "        [7.82966614e-04, 1.59263611e-03, 1.55901909e-03],\n",
              "        [4.23955917e-03, 2.67744064e-03, 3.50463390e-03],\n",
              "        [7.56394863e-03, 1.49333477e-03, 4.50205803e-03],\n",
              "        [2.41088867e-03, 3.26788425e-03, 4.84812260e-03],\n",
              "        [8.48770142e-05, 1.88493729e-03, 8.51273537e-04],\n",
              "        [1.35627985e-02, 9.43398476e-03, 1.66571140e-03],\n",
              "        [7.61210918e-03, 9.64355469e-03, 7.62367249e-03],\n",
              "        [2.05779076e-03, 2.69103050e-03, 1.94268227e-02],\n",
              "        [1.80082321e-02, 2.91097164e-03, 1.55526400e-02],\n",
              "        [3.31640244e-04, 5.38945198e-04, 4.07958031e-03],\n",
              "        [5.23996353e-03, 3.41260433e-03, 1.25575066e-03],\n",
              "        [1.47342682e-03, 1.84237957e-03, 2.16948986e-03],\n",
              "        [8.96108150e-03, 1.83379650e-03, 2.56359577e-03],\n",
              "        [1.50334835e-03, 5.96332550e-03, 4.23610210e-03],\n",
              "        [3.39388847e-03, 5.54859638e-03, 2.98666954e-03],\n",
              "        [1.86192989e-03, 5.13553619e-03, 1.92606449e-03],\n",
              "        [1.03950500e-03, 1.22246742e-02, 4.02855873e-03],\n",
              "        [2.97331810e-03, 1.93715096e-04, 3.52478027e-03],\n",
              "        [2.58541107e-03, 2.19583511e-04, 6.26373291e-03],\n",
              "        [5.27000427e-03, 1.34074688e-02, 7.50458241e-03],\n",
              "        [1.51813030e-03, 5.45775890e-03, 8.12578201e-03],\n",
              "        [2.87950039e-03, 1.74486637e-03, 1.27246380e-02],\n",
              "        [1.18219852e-03, 5.51819801e-04, 9.71436501e-04],\n",
              "        [4.65416908e-03, 4.72569466e-03, 5.03444672e-03],\n",
              "        [3.60870361e-03, 7.23242760e-03, 1.13427639e-03],\n",
              "        [8.75473022e-04, 5.26320934e-03, 1.09958649e-03],\n",
              "        [2.88844109e-03, 9.97304916e-03, 1.78726912e-02],\n",
              "        [9.45568085e-03, 1.90663338e-03, 7.44462013e-04],\n",
              "        [5.66959381e-04, 2.24089622e-03, 2.26485729e-03],\n",
              "        [7.72404671e-03, 3.17335129e-03, 9.26494598e-04],\n",
              "        [1.15871429e-04, 1.64532661e-03, 4.95910645e-04],\n",
              "        [2.16102600e-03, 6.91354275e-03, 1.59555674e-02],\n",
              "        [6.20663166e-03, 1.83582306e-05, 1.86491013e-03],\n",
              "        [1.90031528e-03, 2.29096413e-03, 5.47242165e-03],\n",
              "        [6.04772568e-03, 7.74621964e-03, 2.76803970e-03],\n",
              "        [3.14629078e-03, 3.01003456e-04, 3.24916840e-03],\n",
              "        [2.02894211e-04, 2.74062157e-04, 2.01749802e-03],\n",
              "        [6.77943230e-04, 6.29866123e-03, 3.97336483e-03],\n",
              "        [1.27097368e-02, 3.72886658e-04, 9.38177109e-05],\n",
              "        [2.34889984e-03, 9.41026211e-03, 2.62141228e-04],\n",
              "        [1.31237507e-03, 4.78744507e-04, 6.14392757e-03],\n",
              "        [2.70450115e-03, 2.82835960e-03, 1.23131275e-03],\n",
              "        [2.99096107e-04, 2.30807066e-02, 7.07745552e-04],\n",
              "        [3.43298912e-03, 1.33931637e-03, 2.60353088e-04],\n",
              "        [5.29873371e-03, 2.93934345e-03, 5.97739220e-03],\n",
              "        [5.39422035e-04, 4.53865528e-03, 3.34012508e-03],\n",
              "        [1.59232616e-02, 6.81412220e-03, 5.37919998e-03],\n",
              "        [6.29067421e-04, 1.30456686e-02, 1.07085705e-03],\n",
              "        [7.06195831e-04, 1.68466568e-03, 1.36291981e-03],\n",
              "        [5.73933125e-03, 2.74980068e-03, 1.62601471e-03],\n",
              "        [5.60081005e-03, 6.78145885e-03, 4.41360474e-03],\n",
              "        [1.02400780e-04, 6.56747818e-03, 2.48694420e-03],\n",
              "        [2.90632248e-03, 2.55048275e-03, 8.38291645e-03],\n",
              "        [3.11303139e-03, 2.41458416e-03, 5.06043434e-04],\n",
              "        [1.90412998e-03, 6.94668293e-03, 1.46040916e-02],\n",
              "        [4.85432148e-03, 1.91664696e-03, 7.57813454e-04],\n",
              "        [5.34617901e-03, 1.88505650e-03, 8.48519802e-03],\n",
              "        [7.95507431e-03, 5.23722172e-03, 7.02464581e-03],\n",
              "        [1.84738636e-03, 4.25624847e-03, 1.33109093e-03],\n",
              "        [9.03844833e-04, 3.27670574e-03, 8.59391689e-03],\n",
              "        [1.29103661e-04, 1.84726715e-02, 8.59117508e-03],\n",
              "        [1.07089281e-02, 1.31357908e-02, 3.39317322e-03],\n",
              "        [1.08253956e-03, 2.90870667e-05, 5.75840473e-03],\n",
              "        [1.81198120e-03, 5.95319271e-03, 2.24471092e-04],\n",
              "        [1.47976875e-02, 8.12661648e-03, 3.24451923e-03],\n",
              "        [2.06494331e-03, 1.12485886e-03, 2.13861465e-04],\n",
              "        [2.30395794e-03, 7.02726841e-03, 6.99520111e-04],\n",
              "        [5.09238243e-03, 5.98859787e-03, 2.93731689e-04],\n",
              "        [8.21352005e-05, 3.02028656e-03, 1.29461288e-04],\n",
              "        [3.71730328e-03, 3.23545933e-03, 1.04665756e-04],\n",
              "        [5.94496727e-04, 4.63891029e-03, 3.16989422e-03],\n",
              "        [4.77635860e-03, 3.03910971e-02, 1.40823126e-02],\n",
              "        [7.05492496e-03, 8.75592232e-04, 1.17518902e-02],\n",
              "        [1.04255676e-02, 1.95288658e-03, 2.92038918e-03],\n",
              "        [1.75535679e-03, 9.30130482e-03, 8.72850418e-03],\n",
              "        [1.91330910e-03, 4.87077236e-03, 1.43628120e-02],\n",
              "        [1.04969740e-02, 3.25608253e-03, 4.06360626e-03],\n",
              "        [6.24012947e-03, 1.58751011e-03, 8.32438469e-04],\n",
              "        [1.95252895e-03, 1.81198120e-05, 2.33530998e-04],\n",
              "        [1.75429583e-02, 3.50832939e-04, 1.05607510e-03],\n",
              "        [7.70211220e-04, 4.06861305e-04, 9.74059105e-04],\n",
              "        [9.12737846e-03, 1.13570690e-03, 1.63962841e-02],\n",
              "        [3.57627869e-04, 1.12559795e-02, 5.35035133e-03],\n",
              "        [6.81924820e-03, 8.64148140e-04, 1.87253952e-03],\n",
              "        [2.50577927e-04, 3.79002094e-03, 1.01995468e-03],\n",
              "        [6.79123402e-03, 2.56466866e-03, 3.53634357e-03],\n",
              "        [2.88522243e-03, 5.21612167e-03, 1.59609318e-03],\n",
              "        [7.35676289e-03, 7.00056553e-03, 1.03406906e-02],\n",
              "        [4.05192375e-04, 5.74231148e-04, 5.20825386e-03],\n",
              "        [9.83238220e-04, 1.22940540e-03, 3.21829319e-03],\n",
              "        [1.06116533e-02, 1.14531517e-02, 5.69880009e-03],\n",
              "        [5.68580627e-03, 8.13007355e-04, 4.60100174e-03],\n",
              "        [3.02875042e-03, 2.37572193e-03, 7.60853291e-03]], dtype=float32)>,\n",
              " <tf.Tensor: shape=(224, 3), dtype=float32, numpy=\n",
              " array([[0.99965596, 0.995522  , 0.99714303],\n",
              "        [0.9975524 , 0.9992794 , 0.9997554 ],\n",
              "        [0.9966856 , 0.9987174 , 0.9994308 ],\n",
              "        [0.9996315 , 0.9973718 , 0.9993528 ],\n",
              "        [0.9962095 , 0.9988828 , 0.9990562 ],\n",
              "        [0.99442244, 0.99608445, 0.9982321 ],\n",
              "        [0.99981904, 0.9986024 , 0.9989766 ],\n",
              "        [0.9945471 , 0.9968444 , 0.9940239 ],\n",
              "        [0.9883262 , 0.99937   , 0.99701905],\n",
              "        [0.9958147 , 0.9958273 , 0.9960382 ],\n",
              "        [0.98445916, 0.99700665, 0.99330497],\n",
              "        [0.99652874, 0.9953197 , 0.99737585],\n",
              "        [0.9976251 , 0.9836534 , 0.9910445 ],\n",
              "        [0.99797606, 0.99846804, 0.9894985 ],\n",
              "        [0.99490845, 0.99608743, 0.99969876],\n",
              "        [0.9956765 , 0.9998455 , 0.9982749 ],\n",
              "        [0.9991988 , 0.99974036, 0.99332726],\n",
              "        [0.99592435, 0.98185444, 0.9998249 ],\n",
              "        [0.9948201 , 0.99782705, 0.999876  ],\n",
              "        [0.99691474, 0.99539423, 0.9932773 ],\n",
              "        [0.99594164, 0.98527193, 0.99880755],\n",
              "        [0.9983002 , 0.9951364 , 0.99953055],\n",
              "        [0.9986011 , 0.99892163, 0.99328256],\n",
              "        [0.99737275, 0.9917855 , 0.9993646 ],\n",
              "        [0.99719083, 0.9962504 , 0.99969506],\n",
              "        [0.99669576, 0.99431753, 0.99904156],\n",
              "        [0.99939334, 0.99294055, 0.99317396],\n",
              "        [0.9874258 , 0.9889575 , 0.9878577 ],\n",
              "        [0.9984746 , 0.999928  , 0.9991424 ],\n",
              "        [0.9975343 , 0.99679625, 0.99750376],\n",
              "        [0.9974246 , 0.9872258 , 0.99107015],\n",
              "        [0.9968262 , 0.9984019 , 0.99154794],\n",
              "        [0.99830973, 0.9977491 , 0.98829794],\n",
              "        [0.9943793 , 0.99931884, 0.9990697 ],\n",
              "        [0.99937046, 0.9896437 , 0.9880918 ],\n",
              "        [0.9955294 , 0.9897417 , 0.99869585],\n",
              "        [0.9962213 , 0.9997362 , 0.9799963 ],\n",
              "        [0.9984348 , 0.9912877 , 0.9999949 ],\n",
              "        [0.99820256, 0.99594784, 0.9919976 ],\n",
              "        [0.9930996 , 0.9914565 , 0.9939865 ],\n",
              "        [0.99961877, 0.98994935, 0.99897134],\n",
              "        [0.9893936 , 0.99995553, 0.9947157 ],\n",
              "        [0.99501026, 0.99372566, 0.9999609 ],\n",
              "        [0.9961654 , 0.99815714, 0.99924135],\n",
              "        [0.9926076 , 0.99840033, 0.99575937],\n",
              "        [0.9996494 , 0.99996006, 0.999534  ],\n",
              "        [0.9953543 , 0.99899924, 0.99695325],\n",
              "        [0.989918  , 0.9966366 , 0.99594784],\n",
              "        [0.99957716, 0.9999379 , 0.999766  ],\n",
              "        [0.9990654 , 0.99898624, 0.9925084 ],\n",
              "        [0.99571276, 0.98882186, 0.9991342 ],\n",
              "        [0.99911153, 0.9973277 , 0.99821985],\n",
              "        [0.9973998 , 0.999133  , 0.99838626],\n",
              "        [0.99823856, 0.999141  , 0.9995514 ],\n",
              "        [0.99689555, 0.99661493, 0.9961561 ],\n",
              "        [0.99488866, 0.9985633 , 0.9953294 ],\n",
              "        [0.9965464 , 0.99816835, 0.99957705],\n",
              "        [0.9949255 , 0.99159944, 0.9978696 ],\n",
              "        [0.99951994, 0.9993129 , 0.99626255],\n",
              "        [0.996374  , 0.99622977, 0.9999913 ],\n",
              "        [0.9952022 , 0.9957739 , 0.9979719 ],\n",
              "        [0.99906087, 0.9957768 , 0.98070955],\n",
              "        [0.9951714 , 0.99652946, 0.999761  ],\n",
              "        [0.99766374, 0.9991348 , 0.9937135 ],\n",
              "        [0.9989221 , 0.9982238 , 0.9960278 ],\n",
              "        [0.99867725, 0.99711466, 0.988644  ],\n",
              "        [0.99478614, 0.99129355, 0.99348617],\n",
              "        [0.99198675, 0.9975393 , 0.99940264],\n",
              "        [0.9988326 , 0.99987817, 0.9911506 ],\n",
              "        [0.9994463 , 0.9930682 , 0.995718  ],\n",
              "        [0.9992986 , 0.9992082 , 0.9994463 ],\n",
              "        [0.9955671 , 0.9980837 , 0.9992926 ],\n",
              "        [0.9992777 , 0.9985006 , 0.99540174],\n",
              "        [0.9984958 , 0.99743176, 0.9990336 ],\n",
              "        [0.9969506 , 0.9999156 , 0.9979725 ],\n",
              "        [0.9995028 , 0.9974526 , 0.9968604 ],\n",
              "        [0.9938066 , 0.9997492 , 0.99876153],\n",
              "        [0.9983741 , 0.991307  , 0.98935115],\n",
              "        [0.9936712 , 0.99353206, 0.9992372 ],\n",
              "        [0.9973017 , 0.99730563, 0.9987328 ],\n",
              "        [0.9971571 , 0.9961177 , 0.9952222 ],\n",
              "        [0.9937298 , 0.9998746 , 0.9980011 ],\n",
              "        [0.9979123 , 0.9998038 , 0.99756885],\n",
              "        [0.9951047 , 0.99685144, 0.99899554],\n",
              "        [0.9930805 , 0.9991541 , 0.9991704 ],\n",
              "        [0.98549557, 0.98754275, 0.9953841 ],\n",
              "        [0.9989735 , 0.99931   , 0.99942315],\n",
              "        [0.9997922 , 0.9953098 , 0.9829974 ],\n",
              "        [0.9997661 , 0.98826945, 0.9955207 ],\n",
              "        [0.9986608 , 0.9944054 , 0.9891951 ],\n",
              "        [0.9979727 , 0.98934305, 0.99504673],\n",
              "        [0.9889852 , 0.9970349 , 0.9906672 ],\n",
              "        [0.995857  , 0.99769974, 0.99935746],\n",
              "        [0.99253535, 0.9995656 , 0.98626196],\n",
              "        [0.99993753, 0.9915525 , 0.99266946],\n",
              "        [0.99889076, 0.99863446, 0.9924896 ],\n",
              "        [0.9996402 , 0.99613833, 0.9973197 ],\n",
              "        [0.99551773, 0.985077  , 0.99939084],\n",
              "        [0.99814034, 0.9952849 , 0.9993408 ],\n",
              "        [0.9999707 , 0.99418294, 0.9803673 ],\n",
              "        [0.998698  , 0.9961475 , 0.98784935],\n",
              "        [0.9996021 , 0.99867487, 0.9995328 ],\n",
              "        [0.9944005 , 0.99589026, 0.9989414 ],\n",
              "        [0.99531984, 0.9973031 , 0.9990237 ],\n",
              "        [0.9958813 , 0.9932734 , 0.9989083 ],\n",
              "        [0.99415684, 0.9993855 , 0.99547887],\n",
              "        [0.9985311 , 0.99895465, 0.99490786],\n",
              "        [0.9983841 , 0.9946703 , 0.9953673 ],\n",
              "        [0.99673533, 0.990644  , 0.99946785],\n",
              "        [0.99971247, 0.9994246 , 0.9986882 ],\n",
              "        [0.993893  , 0.99984384, 0.99919105],\n",
              "        [0.99241745, 0.9956347 , 0.9989613 ],\n",
              "        [0.9981595 , 0.99798775, 0.9944531 ],\n",
              "        [0.99480546, 0.9993546 , 0.9899688 ],\n",
              "        [0.98300695, 0.9938487 , 0.990499  ],\n",
              "        [0.9985179 , 0.9962547 , 0.9951272 ],\n",
              "        [0.99101436, 0.9876336 , 0.9999163 ],\n",
              "        [0.99649274, 0.9997767 , 0.99577343],\n",
              "        [0.9960555 , 0.9972489 , 0.9850477 ],\n",
              "        [0.99863505, 0.99015415, 0.9984044 ],\n",
              "        [0.99849343, 0.9975078 , 0.99517727],\n",
              "        [0.9981065 , 0.99750984, 0.9966712 ],\n",
              "        [0.9977095 , 0.9983473 , 0.9812213 ],\n",
              "        [0.9930806 , 0.9969313 , 0.99647295],\n",
              "        [0.99279046, 0.9983096 , 0.99654865],\n",
              "        [0.9885545 , 0.99986804, 0.99382854],\n",
              "        [0.99623644, 0.9973428 , 0.9969518 ],\n",
              "        [0.9990939 , 0.999189  , 0.99775827],\n",
              "        [0.99702084, 0.9993094 , 0.99789155],\n",
              "        [0.9984795 , 0.9994943 , 0.99741316],\n",
              "        [0.997748  , 0.99526143, 0.99791574],\n",
              "        [0.9993297 , 0.999279  , 0.9972441 ],\n",
              "        [0.99487925, 0.99949086, 0.99940026],\n",
              "        [0.99918306, 0.9992024 , 0.9970039 ],\n",
              "        [0.9930874 , 0.9994991 , 0.989092  ],\n",
              "        [0.987659  , 0.99859357, 0.9980062 ],\n",
              "        [0.9952253 , 0.99376655, 0.99070394],\n",
              "        [0.9992045 , 0.99922955, 0.9992976 ],\n",
              "        [0.9993861 , 0.99764836, 0.99763954],\n",
              "        [0.9975587 , 0.9706181 , 0.9998089 ],\n",
              "        [0.99474335, 0.9978272 , 0.9949219 ],\n",
              "        [0.9988892 , 0.99736667, 0.99827456],\n",
              "        [0.9953785 , 0.99838793, 0.9983542 ],\n",
              "        [0.99651706, 0.9976448 , 0.99519074],\n",
              "        [0.99664664, 0.9981228 , 0.99569404],\n",
              "        [0.9970293 , 0.99890804, 0.9976138 ],\n",
              "        [0.99779844, 0.99792826, 0.99563587],\n",
              "        [0.9967655 , 0.9970598 , 0.99622715],\n",
              "        [0.9967232 , 0.99745846, 0.99166787],\n",
              "        [0.9992634 , 0.99882567, 0.9974787 ],\n",
              "        [0.9890286 , 0.9962143 , 0.9973725 ],\n",
              "        [0.99794817, 0.9899976 , 0.99878633],\n",
              "        [0.9911355 , 0.99546015, 0.99306524],\n",
              "        [0.9944899 , 0.99731684, 0.9997405 ],\n",
              "        [0.99661314, 0.99975526, 0.99731386],\n",
              "        [0.9961474 , 0.9909239 , 0.98700166],\n",
              "        [0.996488  , 0.99604356, 0.99417126],\n",
              "        [0.99658024, 0.9977895 , 0.9998002 ],\n",
              "        [0.99993813, 0.999699  , 0.99090457],\n",
              "        [0.99838257, 0.9976628 , 0.99966156],\n",
              "        [0.99685   , 0.99742424, 0.99858737],\n",
              "        [0.999123  , 0.99115574, 0.9909327 ],\n",
              "        [0.99962556, 0.99779725, 0.98960173],\n",
              "        [0.99126875, 0.9991045 , 0.9964415 ],\n",
              "        [0.9992161 , 0.999164  , 0.9957398 ],\n",
              "        [0.98207486, 0.99591136, 0.9955014 ],\n",
              "        [0.99318147, 0.98843694, 0.9994259 ],\n",
              "        [0.9998727 , 0.99461603, 0.997725  ],\n",
              "        [0.9983752 , 0.9930556 , 0.99694514],\n",
              "        [0.99686086, 0.98917997, 0.98866284],\n",
              "        [0.9962659 , 0.9949006 , 0.99458635],\n",
              "        [0.99776137, 0.99541855, 0.9866338 ],\n",
              "        [0.99494874, 0.997911  , 0.99984527],\n",
              "        [0.99187636, 0.9975338 , 0.997875  ],\n",
              "        [0.99974203, 0.9996381 , 0.9923761 ],\n",
              "        [0.9910197 , 0.9969349 , 0.99876904],\n",
              "        [0.99880874, 0.9813516 , 0.9994191 ],\n",
              "        [0.9997606 , 0.9996762 , 0.99905074],\n",
              "        [0.9995965 , 0.9934403 , 0.99565136],\n",
              "        [0.99878144, 0.9783292 , 0.9917742 ],\n",
              "        [0.9961076 , 0.99574363, 0.9959192 ],\n",
              "        [0.9984869 , 0.99929   , 0.9960302 ],\n",
              "        [0.9966978 , 0.9946312 , 0.9869664 ],\n",
              "        [0.99398506, 0.99286604, 0.99728227],\n",
              "        [0.99316907, 0.99650073, 0.9962785 ],\n",
              "        [0.9961344 , 0.9959824 , 0.9998857 ],\n",
              "        [0.99816954, 0.998605  , 0.99987864],\n",
              "        [0.995476  , 0.99945843, 0.9995233 ],\n",
              "        [0.99880457, 0.9979254 , 0.999838  ],\n",
              "        [0.9995818 , 0.99964654, 0.996912  ],\n",
              "        [0.9962108 , 0.99648595, 0.99921215],\n",
              "        [0.99173284, 0.978104  , 0.9932085 ],\n",
              "        [0.99836385, 0.99949086, 0.9997431 ],\n",
              "        [0.99419856, 0.99978936, 0.9980966 ],\n",
              "        [0.99659693, 0.9984573 , 0.9937    ],\n",
              "        [0.99377894, 0.9964577 , 0.99874914],\n",
              "        [0.99833536, 0.9967935 , 0.9990568 ],\n",
              "        [0.99786794, 0.99127376, 0.99933016],\n",
              "        [0.9971483 , 0.99978495, 0.9914086 ],\n",
              "        [0.99083364, 0.99847484, 0.9971392 ],\n",
              "        [0.9997928 , 0.9947772 , 0.9984416 ],\n",
              "        [0.9977609 , 0.99709535, 0.9998983 ],\n",
              "        [0.99903226, 0.99399364, 0.99983895],\n",
              "        [0.9964262 , 0.9989277 , 0.9978987 ],\n",
              "        [0.9981656 , 0.99354315, 0.99037445],\n",
              "        [0.9987278 , 0.9934304 , 0.9941844 ],\n",
              "        [0.9971522 , 0.9991462 , 0.9999337 ],\n",
              "        [0.9972619 , 0.9970126 , 0.9910091 ],\n",
              "        [0.99612   , 0.99509263, 0.99953043],\n",
              "        [0.99609315, 0.9980377 , 0.99807155],\n",
              "        [0.9991727 , 0.99805653, 0.99712753],\n",
              "        [0.99453616, 0.99634886, 0.9937407 ],\n",
              "        [0.9955809 , 0.98452663, 0.9994433 ],\n",
              "        [0.9979719 , 0.98634005, 0.99527574],\n",
              "        [0.9975383 , 0.99966717, 0.9985286 ],\n",
              "        [0.98673403, 0.98173463, 0.9983114 ],\n",
              "        [0.9996836 , 0.9964373 , 0.9945122 ],\n",
              "        [0.9979991 , 0.99234915, 0.9974892 ],\n",
              "        [0.99930274, 0.9776646 , 0.9995712 ],\n",
              "        [0.99606717, 0.9922514 , 0.9959574 ],\n",
              "        [0.9969634 , 0.9974154 , 0.994828  ],\n",
              "        [0.9994211 , 0.9940728 , 0.9996822 ],\n",
              "        [0.9872618 , 0.97986245, 0.9878646 ],\n",
              "        [0.99838245, 0.9935851 , 0.99564314]], dtype=float32)>)"
            ]
          },
          "metadata": {},
          "execution_count": 95
        }
      ]
    },
    {
      "cell_type": "code",
      "source": [
        "M = tf.random.uniform(shape=[1,224,224,3])\n",
        "print(M)\n",
        "squeezed_M = tf.squeeze(M)\n",
        "print(squeezed_M)"
      ],
      "metadata": {
        "colab": {
          "base_uri": "https://localhost:8080/"
        },
        "id": "MnRSqkWMINAe",
        "outputId": "7d419292-13d0-4f3c-b2e8-6c6b10aa1b62"
      },
      "execution_count": null,
      "outputs": [
        {
          "output_type": "stream",
          "name": "stdout",
          "text": [
            "tf.Tensor(\n",
            "[[[[0.88617194 0.31975305 0.96037436]\n",
            "   [0.9235139  0.9998435  0.5416657 ]\n",
            "   [0.99395466 0.6875576  0.1814214 ]\n",
            "   ...\n",
            "   [0.5551114  0.37019336 0.69272685]\n",
            "   [0.6522975  0.56978905 0.5724205 ]\n",
            "   [0.868374   0.64062893 0.22550702]]\n",
            "\n",
            "  [[0.07482469 0.7029654  0.88437426]\n",
            "   [0.28549337 0.8742231  0.25903034]\n",
            "   [0.25968897 0.11492515 0.22962582]\n",
            "   ...\n",
            "   [0.6634495  0.19336104 0.81642973]\n",
            "   [0.5729947  0.94642603 0.60866165]\n",
            "   [0.7851982  0.82932746 0.4231168 ]]\n",
            "\n",
            "  [[0.27995002 0.04292738 0.650228  ]\n",
            "   [0.7743039  0.5163456  0.88162434]\n",
            "   [0.8823972  0.30747986 0.4866011 ]\n",
            "   ...\n",
            "   [0.1458236  0.88210094 0.8290951 ]\n",
            "   [0.8548591  0.2090745  0.19631529]\n",
            "   [0.276101   0.8465487  0.36947477]]\n",
            "\n",
            "  ...\n",
            "\n",
            "  [[0.29420888 0.79768884 0.94076633]\n",
            "   [0.5825466  0.5657337  0.11359715]\n",
            "   [0.23495877 0.2316004  0.70308506]\n",
            "   ...\n",
            "   [0.8051413  0.7771344  0.32351434]\n",
            "   [0.39424443 0.16906095 0.77581084]\n",
            "   [0.70213103 0.3947482  0.95960176]]\n",
            "\n",
            "  [[0.82172525 0.22536528 0.63868   ]\n",
            "   [0.90340376 0.70477057 0.5342196 ]\n",
            "   [0.9216708  0.27725255 0.7612828 ]\n",
            "   ...\n",
            "   [0.683885   0.09775448 0.22490239]\n",
            "   [0.40214276 0.7828461  0.22929323]\n",
            "   [0.66987574 0.13585627 0.4248426 ]]\n",
            "\n",
            "  [[0.875191   0.7979858  0.32726014]\n",
            "   [0.08051229 0.6238134  0.04101324]\n",
            "   [0.28951895 0.78411484 0.59776914]\n",
            "   ...\n",
            "   [0.3483987  0.42839992 0.6405833 ]\n",
            "   [0.669188   0.5735899  0.8816614 ]\n",
            "   [0.83304715 0.96420324 0.2821679 ]]]], shape=(1, 224, 224, 3), dtype=float32)\n",
            "tf.Tensor(\n",
            "[[[0.88617194 0.31975305 0.96037436]\n",
            "  [0.9235139  0.9998435  0.5416657 ]\n",
            "  [0.99395466 0.6875576  0.1814214 ]\n",
            "  ...\n",
            "  [0.5551114  0.37019336 0.69272685]\n",
            "  [0.6522975  0.56978905 0.5724205 ]\n",
            "  [0.868374   0.64062893 0.22550702]]\n",
            "\n",
            " [[0.07482469 0.7029654  0.88437426]\n",
            "  [0.28549337 0.8742231  0.25903034]\n",
            "  [0.25968897 0.11492515 0.22962582]\n",
            "  ...\n",
            "  [0.6634495  0.19336104 0.81642973]\n",
            "  [0.5729947  0.94642603 0.60866165]\n",
            "  [0.7851982  0.82932746 0.4231168 ]]\n",
            "\n",
            " [[0.27995002 0.04292738 0.650228  ]\n",
            "  [0.7743039  0.5163456  0.88162434]\n",
            "  [0.8823972  0.30747986 0.4866011 ]\n",
            "  ...\n",
            "  [0.1458236  0.88210094 0.8290951 ]\n",
            "  [0.8548591  0.2090745  0.19631529]\n",
            "  [0.276101   0.8465487  0.36947477]]\n",
            "\n",
            " ...\n",
            "\n",
            " [[0.29420888 0.79768884 0.94076633]\n",
            "  [0.5825466  0.5657337  0.11359715]\n",
            "  [0.23495877 0.2316004  0.70308506]\n",
            "  ...\n",
            "  [0.8051413  0.7771344  0.32351434]\n",
            "  [0.39424443 0.16906095 0.77581084]\n",
            "  [0.70213103 0.3947482  0.95960176]]\n",
            "\n",
            " [[0.82172525 0.22536528 0.63868   ]\n",
            "  [0.90340376 0.70477057 0.5342196 ]\n",
            "  [0.9216708  0.27725255 0.7612828 ]\n",
            "  ...\n",
            "  [0.683885   0.09775448 0.22490239]\n",
            "  [0.40214276 0.7828461  0.22929323]\n",
            "  [0.66987574 0.13585627 0.4248426 ]]\n",
            "\n",
            " [[0.875191   0.7979858  0.32726014]\n",
            "  [0.08051229 0.6238134  0.04101324]\n",
            "  [0.28951895 0.78411484 0.59776914]\n",
            "  ...\n",
            "  [0.3483987  0.42839992 0.6405833 ]\n",
            "  [0.669188   0.5735899  0.8816614 ]\n",
            "  [0.83304715 0.96420324 0.2821679 ]]], shape=(224, 224, 3), dtype=float32)\n"
          ]
        }
      ]
    },
    {
      "cell_type": "code",
      "source": [
        "N = tf.constant([0,1,2,3,4,5,6,7,8,9])\n",
        "tf.argmax(N), tf.one_hot(N, depth = 10)"
      ],
      "metadata": {
        "colab": {
          "base_uri": "https://localhost:8080/"
        },
        "id": "FEGJQyW9I6zn",
        "outputId": "6e84b989-0fd2-41db-9228-7fe35b53e15e"
      },
      "execution_count": null,
      "outputs": [
        {
          "output_type": "execute_result",
          "data": {
            "text/plain": [
              "(<tf.Tensor: shape=(), dtype=int64, numpy=9>,\n",
              " <tf.Tensor: shape=(10, 10), dtype=float32, numpy=\n",
              " array([[1., 0., 0., 0., 0., 0., 0., 0., 0., 0.],\n",
              "        [0., 1., 0., 0., 0., 0., 0., 0., 0., 0.],\n",
              "        [0., 0., 1., 0., 0., 0., 0., 0., 0., 0.],\n",
              "        [0., 0., 0., 1., 0., 0., 0., 0., 0., 0.],\n",
              "        [0., 0., 0., 0., 1., 0., 0., 0., 0., 0.],\n",
              "        [0., 0., 0., 0., 0., 1., 0., 0., 0., 0.],\n",
              "        [0., 0., 0., 0., 0., 0., 1., 0., 0., 0.],\n",
              "        [0., 0., 0., 0., 0., 0., 0., 1., 0., 0.],\n",
              "        [0., 0., 0., 0., 0., 0., 0., 0., 1., 0.],\n",
              "        [0., 0., 0., 0., 0., 0., 0., 0., 0., 1.]], dtype=float32)>)"
            ]
          },
          "metadata": {},
          "execution_count": 108
        }
      ]
    },
    {
      "cell_type": "code",
      "source": [],
      "metadata": {
        "id": "rQjTkd7fJo2G"
      },
      "execution_count": null,
      "outputs": []
    }
  ]
}